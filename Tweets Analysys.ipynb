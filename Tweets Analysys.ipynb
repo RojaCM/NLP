{
  "cells": [
    {
      "cell_type": "markdown",
      "metadata": {
        "id": "view-in-github",
        "colab_type": "text"
      },
      "source": [
        "<a href=\"https://colab.research.google.com/github/RojaCM/NLP/blob/main/Tweets%20Analysys.ipynb\" target=\"_parent\"><img src=\"https://colab.research.google.com/assets/colab-badge.svg\" alt=\"Open In Colab\"/></a>"
      ]
    },
    {
      "cell_type": "code",
      "execution_count": null,
      "id": "3807f68b",
      "metadata": {
        "id": "3807f68b"
      },
      "outputs": [],
      "source": [
        "import pandas as pd\n",
        "import numpy as np\n",
        "import matplotlib.pyplot as plt\n",
        "import seaborn as sns"
      ]
    },
    {
      "cell_type": "code",
      "execution_count": null,
      "id": "5717df69",
      "metadata": {
        "id": "5717df69"
      },
      "outputs": [],
      "source": [
        "#1.Load the tweets file using read_csv function from Pandas package."
      ]
    },
    {
      "cell_type": "code",
      "execution_count": null,
      "id": "0c002436",
      "metadata": {
        "id": "0c002436"
      },
      "outputs": [],
      "source": [
        "#reading the data\n",
        "df=pd.read_csv('TwitterHate.csv')"
      ]
    },
    {
      "cell_type": "code",
      "execution_count": null,
      "id": "50e5fd74",
      "metadata": {
        "id": "50e5fd74",
        "outputId": "4b842fad-eb16-4bc2-809f-52294f794215"
      },
      "outputs": [
        {
          "data": {
            "text/html": [
              "<div>\n",
              "<style scoped>\n",
              "    .dataframe tbody tr th:only-of-type {\n",
              "        vertical-align: middle;\n",
              "    }\n",
              "\n",
              "    .dataframe tbody tr th {\n",
              "        vertical-align: top;\n",
              "    }\n",
              "\n",
              "    .dataframe thead th {\n",
              "        text-align: right;\n",
              "    }\n",
              "</style>\n",
              "<table border=\"1\" class=\"dataframe\">\n",
              "  <thead>\n",
              "    <tr style=\"text-align: right;\">\n",
              "      <th></th>\n",
              "      <th>label</th>\n",
              "      <th>tweet</th>\n",
              "    </tr>\n",
              "  </thead>\n",
              "  <tbody>\n",
              "    <tr>\n",
              "      <th>0</th>\n",
              "      <td>0</td>\n",
              "      <td>@user when a father is dysfunctional and is s...</td>\n",
              "    </tr>\n",
              "    <tr>\n",
              "      <th>1</th>\n",
              "      <td>0</td>\n",
              "      <td>@user @user thanks for #lyft credit i can't us...</td>\n",
              "    </tr>\n",
              "    <tr>\n",
              "      <th>2</th>\n",
              "      <td>0</td>\n",
              "      <td>bihday your majesty</td>\n",
              "    </tr>\n",
              "    <tr>\n",
              "      <th>3</th>\n",
              "      <td>0</td>\n",
              "      <td>#model   i love u take with u all the time in ...</td>\n",
              "    </tr>\n",
              "    <tr>\n",
              "      <th>4</th>\n",
              "      <td>0</td>\n",
              "      <td>factsguide: society now    #motivation</td>\n",
              "    </tr>\n",
              "  </tbody>\n",
              "</table>\n",
              "</div>"
            ],
            "text/plain": [
              "   label                                              tweet\n",
              "0      0   @user when a father is dysfunctional and is s...\n",
              "1      0  @user @user thanks for #lyft credit i can't us...\n",
              "2      0                                bihday your majesty\n",
              "3      0  #model   i love u take with u all the time in ...\n",
              "4      0             factsguide: society now    #motivation"
            ]
          },
          "execution_count": 8,
          "metadata": {},
          "output_type": "execute_result"
        }
      ],
      "source": [
        "df.head()"
      ]
    },
    {
      "cell_type": "code",
      "execution_count": null,
      "id": "b0794104",
      "metadata": {
        "id": "b0794104",
        "outputId": "92cd914a-357e-47d6-c054-e3a047113e31"
      },
      "outputs": [
        {
          "data": {
            "text/plain": [
              "0    29720\n",
              "1     2242\n",
              "Name: label, dtype: int64"
            ]
          },
          "execution_count": 10,
          "metadata": {},
          "output_type": "execute_result"
        }
      ],
      "source": [
        "df['label'].value_counts()"
      ]
    },
    {
      "cell_type": "code",
      "execution_count": null,
      "id": "31d7aa94",
      "metadata": {
        "id": "31d7aa94"
      },
      "outputs": [],
      "source": [
        "#Get the tweets into a list for easy text cleanup and manipulation.\n",
        "\n",
        "tweets=df['tweet'].values"
      ]
    },
    {
      "cell_type": "markdown",
      "id": "33ed0a30",
      "metadata": {
        "id": "33ed0a30"
      },
      "source": [
        "# Normalize the casing."
      ]
    },
    {
      "cell_type": "code",
      "execution_count": null,
      "id": "3349c654",
      "metadata": {
        "id": "3349c654"
      },
      "outputs": [],
      "source": [
        "df['tweet']=df['tweet'].str.lower()"
      ]
    },
    {
      "cell_type": "markdown",
      "id": "28ddc808",
      "metadata": {
        "id": "28ddc808"
      },
      "source": [
        "# Using regular expressions, remove user handles. These begin with '@’."
      ]
    },
    {
      "cell_type": "code",
      "execution_count": null,
      "id": "7ac4ac49",
      "metadata": {
        "id": "7ac4ac49",
        "outputId": "4610e934-da06-470a-c47a-288021fbdba0"
      },
      "outputs": [
        {
          "data": {
            "text/plain": [
              "list"
            ]
          },
          "execution_count": 31,
          "metadata": {},
          "output_type": "execute_result"
        }
      ],
      "source": [
        "type(tweets)"
      ]
    },
    {
      "cell_type": "code",
      "execution_count": null,
      "id": "1f11d50c",
      "metadata": {
        "id": "1f11d50c"
      },
      "outputs": [],
      "source": [
        "import re"
      ]
    },
    {
      "cell_type": "code",
      "execution_count": null,
      "id": "762d8755",
      "metadata": {
        "id": "762d8755"
      },
      "outputs": [],
      "source": [
        "def remove_user_handles(tweet):\n",
        "\n",
        "    return re.sub(r'@\\w+','',tweet)"
      ]
    },
    {
      "cell_type": "code",
      "execution_count": null,
      "id": "e6e48dba",
      "metadata": {
        "id": "e6e48dba"
      },
      "outputs": [],
      "source": [
        "df['tweets1']=df['tweet'].apply(remove_user_handles)"
      ]
    },
    {
      "cell_type": "code",
      "execution_count": null,
      "id": "6a16b524",
      "metadata": {
        "id": "6a16b524",
        "outputId": "eae03f40-08d0-43a4-b749-74a065d6302c"
      },
      "outputs": [
        {
          "data": {
            "text/html": [
              "<div>\n",
              "<style scoped>\n",
              "    .dataframe tbody tr th:only-of-type {\n",
              "        vertical-align: middle;\n",
              "    }\n",
              "\n",
              "    .dataframe tbody tr th {\n",
              "        vertical-align: top;\n",
              "    }\n",
              "\n",
              "    .dataframe thead th {\n",
              "        text-align: right;\n",
              "    }\n",
              "</style>\n",
              "<table border=\"1\" class=\"dataframe\">\n",
              "  <thead>\n",
              "    <tr style=\"text-align: right;\">\n",
              "      <th></th>\n",
              "      <th>label</th>\n",
              "      <th>tweet</th>\n",
              "      <th>tweets1</th>\n",
              "    </tr>\n",
              "  </thead>\n",
              "  <tbody>\n",
              "    <tr>\n",
              "      <th>0</th>\n",
              "      <td>0</td>\n",
              "      <td>@user when a father is dysfunctional and is s...</td>\n",
              "      <td>when a father is dysfunctional and is so sel...</td>\n",
              "    </tr>\n",
              "    <tr>\n",
              "      <th>1</th>\n",
              "      <td>0</td>\n",
              "      <td>@user @user thanks for #lyft credit i can't us...</td>\n",
              "      <td>thanks for #lyft credit i can't use cause th...</td>\n",
              "    </tr>\n",
              "    <tr>\n",
              "      <th>2</th>\n",
              "      <td>0</td>\n",
              "      <td>bihday your majesty</td>\n",
              "      <td>bihday your majesty</td>\n",
              "    </tr>\n",
              "    <tr>\n",
              "      <th>3</th>\n",
              "      <td>0</td>\n",
              "      <td>#model   i love u take with u all the time in ...</td>\n",
              "      <td>#model   i love u take with u all the time in ...</td>\n",
              "    </tr>\n",
              "    <tr>\n",
              "      <th>4</th>\n",
              "      <td>0</td>\n",
              "      <td>factsguide: society now    #motivation</td>\n",
              "      <td>factsguide: society now    #motivation</td>\n",
              "    </tr>\n",
              "  </tbody>\n",
              "</table>\n",
              "</div>"
            ],
            "text/plain": [
              "   label                                              tweet  \\\n",
              "0      0   @user when a father is dysfunctional and is s...   \n",
              "1      0  @user @user thanks for #lyft credit i can't us...   \n",
              "2      0                                bihday your majesty   \n",
              "3      0  #model   i love u take with u all the time in ...   \n",
              "4      0             factsguide: society now    #motivation   \n",
              "\n",
              "                                             tweets1  \n",
              "0    when a father is dysfunctional and is so sel...  \n",
              "1    thanks for #lyft credit i can't use cause th...  \n",
              "2                                bihday your majesty  \n",
              "3  #model   i love u take with u all the time in ...  \n",
              "4             factsguide: society now    #motivation  "
            ]
          },
          "execution_count": 16,
          "metadata": {},
          "output_type": "execute_result"
        }
      ],
      "source": [
        "df.head()"
      ]
    },
    {
      "cell_type": "code",
      "execution_count": null,
      "id": "6f3ae03f",
      "metadata": {
        "id": "6f3ae03f"
      },
      "outputs": [],
      "source": [
        "def remove_url(tweet):\n",
        "\n",
        "    return re.sub(\"\\w+://\\S+\",\"\",tweet)\n"
      ]
    },
    {
      "cell_type": "code",
      "execution_count": null,
      "id": "fc60bda5",
      "metadata": {
        "id": "fc60bda5"
      },
      "outputs": [],
      "source": [
        "df['tweets2']=df['tweets1'].apply(remove_url)"
      ]
    },
    {
      "cell_type": "code",
      "execution_count": null,
      "id": "ae583fd9",
      "metadata": {
        "id": "ae583fd9"
      },
      "outputs": [],
      "source": [
        "import nltk"
      ]
    },
    {
      "cell_type": "code",
      "execution_count": null,
      "id": "585bd061",
      "metadata": {
        "id": "585bd061"
      },
      "outputs": [],
      "source": [
        "from nltk.corpus import stopwords"
      ]
    },
    {
      "cell_type": "code",
      "execution_count": null,
      "id": "f664487f",
      "metadata": {
        "id": "f664487f"
      },
      "outputs": [],
      "source": [
        "from nltk.tokenize import TweetTokenizer"
      ]
    },
    {
      "cell_type": "code",
      "execution_count": null,
      "id": "48b1b4e2",
      "metadata": {
        "id": "48b1b4e2",
        "outputId": "05c64043-d1b8-459e-8ba0-08de1d73fa15"
      },
      "outputs": [
        {
          "name": "stderr",
          "output_type": "stream",
          "text": [
            "[nltk_data] Downloading package punkt to\n",
            "[nltk_data]     C:\\Users\\AG14432\\AppData\\Roaming\\nltk_data...\n",
            "[nltk_data]   Package punkt is already up-to-date!\n"
          ]
        },
        {
          "data": {
            "text/plain": [
              "True"
            ]
          },
          "execution_count": 26,
          "metadata": {},
          "output_type": "execute_result"
        }
      ],
      "source": [
        "nltk.download('punkt')"
      ]
    },
    {
      "cell_type": "code",
      "execution_count": null,
      "id": "25762587",
      "metadata": {
        "id": "25762587"
      },
      "outputs": [],
      "source": [
        "tokenizer=TweetTokenizer()"
      ]
    },
    {
      "cell_type": "code",
      "execution_count": null,
      "id": "0bf77272",
      "metadata": {
        "id": "0bf77272"
      },
      "outputs": [],
      "source": [
        "def tokenizer_fun(tweet):\n",
        "    return tokenizer.tokenize(tweet)"
      ]
    },
    {
      "cell_type": "code",
      "execution_count": null,
      "id": "19e45a1f",
      "metadata": {
        "id": "19e45a1f"
      },
      "outputs": [],
      "source": [
        "df['tweets3']=df['tweets2'].apply(tokenizer_fun)"
      ]
    },
    {
      "cell_type": "code",
      "execution_count": null,
      "id": "26b53325",
      "metadata": {
        "id": "26b53325",
        "outputId": "9c7a128b-e673-4f85-bb2a-b0415714c8aa"
      },
      "outputs": [
        {
          "data": {
            "text/html": [
              "<div>\n",
              "<style scoped>\n",
              "    .dataframe tbody tr th:only-of-type {\n",
              "        vertical-align: middle;\n",
              "    }\n",
              "\n",
              "    .dataframe tbody tr th {\n",
              "        vertical-align: top;\n",
              "    }\n",
              "\n",
              "    .dataframe thead th {\n",
              "        text-align: right;\n",
              "    }\n",
              "</style>\n",
              "<table border=\"1\" class=\"dataframe\">\n",
              "  <thead>\n",
              "    <tr style=\"text-align: right;\">\n",
              "      <th></th>\n",
              "      <th>label</th>\n",
              "      <th>tweet</th>\n",
              "      <th>tweets1</th>\n",
              "      <th>tweets2</th>\n",
              "      <th>tweets3</th>\n",
              "    </tr>\n",
              "  </thead>\n",
              "  <tbody>\n",
              "    <tr>\n",
              "      <th>0</th>\n",
              "      <td>0</td>\n",
              "      <td>@user when a father is dysfunctional and is s...</td>\n",
              "      <td>when a father is dysfunctional and is so sel...</td>\n",
              "      <td>when a father is dysfunctional and is so sel...</td>\n",
              "      <td>[when, a, father, is, dysfunctional, and, is, ...</td>\n",
              "    </tr>\n",
              "    <tr>\n",
              "      <th>1</th>\n",
              "      <td>0</td>\n",
              "      <td>@user @user thanks for #lyft credit i can't us...</td>\n",
              "      <td>thanks for #lyft credit i can't use cause th...</td>\n",
              "      <td>thanks for #lyft credit i can't use cause th...</td>\n",
              "      <td>[thanks, for, #lyft, credit, i, can't, use, ca...</td>\n",
              "    </tr>\n",
              "    <tr>\n",
              "      <th>2</th>\n",
              "      <td>0</td>\n",
              "      <td>bihday your majesty</td>\n",
              "      <td>bihday your majesty</td>\n",
              "      <td>bihday your majesty</td>\n",
              "      <td>[bihday, your, majesty]</td>\n",
              "    </tr>\n",
              "    <tr>\n",
              "      <th>3</th>\n",
              "      <td>0</td>\n",
              "      <td>#model   i love u take with u all the time in ...</td>\n",
              "      <td>#model   i love u take with u all the time in ...</td>\n",
              "      <td>#model   i love u take with u all the time in ...</td>\n",
              "      <td>[#model, i, love, u, take, with, u, all, the, ...</td>\n",
              "    </tr>\n",
              "    <tr>\n",
              "      <th>4</th>\n",
              "      <td>0</td>\n",
              "      <td>factsguide: society now    #motivation</td>\n",
              "      <td>factsguide: society now    #motivation</td>\n",
              "      <td>factsguide: society now    #motivation</td>\n",
              "      <td>[factsguide, :, society, now, #motivation]</td>\n",
              "    </tr>\n",
              "  </tbody>\n",
              "</table>\n",
              "</div>"
            ],
            "text/plain": [
              "   label                                              tweet  \\\n",
              "0      0   @user when a father is dysfunctional and is s...   \n",
              "1      0  @user @user thanks for #lyft credit i can't us...   \n",
              "2      0                                bihday your majesty   \n",
              "3      0  #model   i love u take with u all the time in ...   \n",
              "4      0             factsguide: society now    #motivation   \n",
              "\n",
              "                                             tweets1  \\\n",
              "0    when a father is dysfunctional and is so sel...   \n",
              "1    thanks for #lyft credit i can't use cause th...   \n",
              "2                                bihday your majesty   \n",
              "3  #model   i love u take with u all the time in ...   \n",
              "4             factsguide: society now    #motivation   \n",
              "\n",
              "                                             tweets2  \\\n",
              "0    when a father is dysfunctional and is so sel...   \n",
              "1    thanks for #lyft credit i can't use cause th...   \n",
              "2                                bihday your majesty   \n",
              "3  #model   i love u take with u all the time in ...   \n",
              "4             factsguide: society now    #motivation   \n",
              "\n",
              "                                             tweets3  \n",
              "0  [when, a, father, is, dysfunctional, and, is, ...  \n",
              "1  [thanks, for, #lyft, credit, i, can't, use, ca...  \n",
              "2                            [bihday, your, majesty]  \n",
              "3  [#model, i, love, u, take, with, u, all, the, ...  \n",
              "4         [factsguide, :, society, now, #motivation]  "
            ]
          },
          "execution_count": 35,
          "metadata": {},
          "output_type": "execute_result"
        }
      ],
      "source": [
        "df.head()"
      ]
    },
    {
      "cell_type": "markdown",
      "id": "26400bf5",
      "metadata": {
        "id": "26400bf5"
      },
      "source": [
        "Remove stop words."
      ]
    },
    {
      "cell_type": "code",
      "execution_count": null,
      "id": "c05fe771",
      "metadata": {
        "id": "c05fe771"
      },
      "outputs": [],
      "source": [
        "stopwords=set(stopwords.words('english'))"
      ]
    },
    {
      "cell_type": "code",
      "execution_count": null,
      "id": "cb06036e",
      "metadata": {
        "id": "cb06036e",
        "outputId": "4e0cece6-80c4-4953-dd67-21e3a5be969a"
      },
      "outputs": [
        {
          "name": "stderr",
          "output_type": "stream",
          "text": [
            "[nltk_data] Downloading package stopwords to\n",
            "[nltk_data]     C:\\Users\\AG14432\\AppData\\Roaming\\nltk_data...\n",
            "[nltk_data]   Package stopwords is already up-to-date!\n"
          ]
        },
        {
          "data": {
            "text/plain": [
              "True"
            ]
          },
          "execution_count": 37,
          "metadata": {},
          "output_type": "execute_result"
        }
      ],
      "source": [
        "nltk.download('stopwords')"
      ]
    },
    {
      "cell_type": "code",
      "execution_count": null,
      "id": "4f9d8535",
      "metadata": {
        "id": "4f9d8535"
      },
      "outputs": [],
      "source": [
        "def remove_stopwords(tweet):\n",
        "    tokens= [i for i in tweet if i not in stopwords]\n",
        "    return tokens"
      ]
    },
    {
      "cell_type": "code",
      "execution_count": null,
      "id": "b204547a",
      "metadata": {
        "id": "b204547a"
      },
      "outputs": [],
      "source": [
        "df['tweets4']=df['tweets3'].apply(remove_stopwords)"
      ]
    },
    {
      "cell_type": "code",
      "execution_count": null,
      "id": "2c6d01e6",
      "metadata": {
        "id": "2c6d01e6",
        "outputId": "d6f4badc-ac4c-4bf1-9010-c84f1e8c2350"
      },
      "outputs": [
        {
          "data": {
            "text/html": [
              "<div>\n",
              "<style scoped>\n",
              "    .dataframe tbody tr th:only-of-type {\n",
              "        vertical-align: middle;\n",
              "    }\n",
              "\n",
              "    .dataframe tbody tr th {\n",
              "        vertical-align: top;\n",
              "    }\n",
              "\n",
              "    .dataframe thead th {\n",
              "        text-align: right;\n",
              "    }\n",
              "</style>\n",
              "<table border=\"1\" class=\"dataframe\">\n",
              "  <thead>\n",
              "    <tr style=\"text-align: right;\">\n",
              "      <th></th>\n",
              "      <th>label</th>\n",
              "      <th>tweet</th>\n",
              "      <th>tweets1</th>\n",
              "      <th>tweets2</th>\n",
              "      <th>tweets3</th>\n",
              "      <th>tweets4</th>\n",
              "    </tr>\n",
              "  </thead>\n",
              "  <tbody>\n",
              "    <tr>\n",
              "      <th>0</th>\n",
              "      <td>0</td>\n",
              "      <td>@user when a father is dysfunctional and is s...</td>\n",
              "      <td>when a father is dysfunctional and is so sel...</td>\n",
              "      <td>when a father is dysfunctional and is so sel...</td>\n",
              "      <td>[when, a, father, is, dysfunctional, and, is, ...</td>\n",
              "      <td>[father, dysfunctional, selfish, drags, kids, ...</td>\n",
              "    </tr>\n",
              "    <tr>\n",
              "      <th>1</th>\n",
              "      <td>0</td>\n",
              "      <td>@user @user thanks for #lyft credit i can't us...</td>\n",
              "      <td>thanks for #lyft credit i can't use cause th...</td>\n",
              "      <td>thanks for #lyft credit i can't use cause th...</td>\n",
              "      <td>[thanks, for, #lyft, credit, i, can't, use, ca...</td>\n",
              "      <td>[thanks, #lyft, credit, can't, use, cause, off...</td>\n",
              "    </tr>\n",
              "    <tr>\n",
              "      <th>2</th>\n",
              "      <td>0</td>\n",
              "      <td>bihday your majesty</td>\n",
              "      <td>bihday your majesty</td>\n",
              "      <td>bihday your majesty</td>\n",
              "      <td>[bihday, your, majesty]</td>\n",
              "      <td>[bihday, majesty]</td>\n",
              "    </tr>\n",
              "    <tr>\n",
              "      <th>3</th>\n",
              "      <td>0</td>\n",
              "      <td>#model   i love u take with u all the time in ...</td>\n",
              "      <td>#model   i love u take with u all the time in ...</td>\n",
              "      <td>#model   i love u take with u all the time in ...</td>\n",
              "      <td>[#model, i, love, u, take, with, u, all, the, ...</td>\n",
              "      <td>[#model, love, u, take, u, time, urð, , , ±,...</td>\n",
              "    </tr>\n",
              "    <tr>\n",
              "      <th>4</th>\n",
              "      <td>0</td>\n",
              "      <td>factsguide: society now    #motivation</td>\n",
              "      <td>factsguide: society now    #motivation</td>\n",
              "      <td>factsguide: society now    #motivation</td>\n",
              "      <td>[factsguide, :, society, now, #motivation]</td>\n",
              "      <td>[factsguide, :, society, #motivation]</td>\n",
              "    </tr>\n",
              "  </tbody>\n",
              "</table>\n",
              "</div>"
            ],
            "text/plain": [
              "   label                                              tweet  \\\n",
              "0      0   @user when a father is dysfunctional and is s...   \n",
              "1      0  @user @user thanks for #lyft credit i can't us...   \n",
              "2      0                                bihday your majesty   \n",
              "3      0  #model   i love u take with u all the time in ...   \n",
              "4      0             factsguide: society now    #motivation   \n",
              "\n",
              "                                             tweets1  \\\n",
              "0    when a father is dysfunctional and is so sel...   \n",
              "1    thanks for #lyft credit i can't use cause th...   \n",
              "2                                bihday your majesty   \n",
              "3  #model   i love u take with u all the time in ...   \n",
              "4             factsguide: society now    #motivation   \n",
              "\n",
              "                                             tweets2  \\\n",
              "0    when a father is dysfunctional and is so sel...   \n",
              "1    thanks for #lyft credit i can't use cause th...   \n",
              "2                                bihday your majesty   \n",
              "3  #model   i love u take with u all the time in ...   \n",
              "4             factsguide: society now    #motivation   \n",
              "\n",
              "                                             tweets3  \\\n",
              "0  [when, a, father, is, dysfunctional, and, is, ...   \n",
              "1  [thanks, for, #lyft, credit, i, can't, use, ca...   \n",
              "2                            [bihday, your, majesty]   \n",
              "3  [#model, i, love, u, take, with, u, all, the, ...   \n",
              "4         [factsguide, :, society, now, #motivation]   \n",
              "\n",
              "                                             tweets4  \n",
              "0  [father, dysfunctional, selfish, drags, kids, ...  \n",
              "1  [thanks, #lyft, credit, can't, use, cause, off...  \n",
              "2                                  [bihday, majesty]  \n",
              "3  [#model, love, u, take, u, time, urð, , , ±,...  \n",
              "4              [factsguide, :, society, #motivation]  "
            ]
          },
          "execution_count": 41,
          "metadata": {},
          "output_type": "execute_result"
        }
      ],
      "source": [
        "df.head()"
      ]
    },
    {
      "cell_type": "markdown",
      "id": "4b406254",
      "metadata": {
        "id": "4b406254"
      },
      "source": [
        "Remove redundant terms like ‘amp’, ‘rt’, etc.\n",
        "\n"
      ]
    },
    {
      "cell_type": "code",
      "execution_count": null,
      "id": "40b0a9c2",
      "metadata": {
        "id": "40b0a9c2"
      },
      "outputs": [],
      "source": [
        "def remove_redundant(tweet):\n",
        "    tokens= [i for i in tweet if i not in ['amp','rt']]\n",
        "    return tokens"
      ]
    },
    {
      "cell_type": "code",
      "execution_count": null,
      "id": "bff006ee",
      "metadata": {
        "id": "bff006ee"
      },
      "outputs": [],
      "source": [
        "df['tweets5']=df['tweets4'].apply(remove_redundant)"
      ]
    },
    {
      "cell_type": "code",
      "execution_count": null,
      "id": "6a9e33e9",
      "metadata": {
        "id": "6a9e33e9"
      },
      "outputs": [],
      "source": [
        "df.drop('tweets5',axis=1,inplace=True)"
      ]
    },
    {
      "cell_type": "code",
      "execution_count": null,
      "id": "5eb5a7f9",
      "metadata": {
        "id": "5eb5a7f9",
        "outputId": "02b1b239-ec54-42d8-997b-8640badead8d"
      },
      "outputs": [
        {
          "data": {
            "text/html": [
              "<div>\n",
              "<style scoped>\n",
              "    .dataframe tbody tr th:only-of-type {\n",
              "        vertical-align: middle;\n",
              "    }\n",
              "\n",
              "    .dataframe tbody tr th {\n",
              "        vertical-align: top;\n",
              "    }\n",
              "\n",
              "    .dataframe thead th {\n",
              "        text-align: right;\n",
              "    }\n",
              "</style>\n",
              "<table border=\"1\" class=\"dataframe\">\n",
              "  <thead>\n",
              "    <tr style=\"text-align: right;\">\n",
              "      <th></th>\n",
              "      <th>label</th>\n",
              "      <th>tweet</th>\n",
              "      <th>tweets1</th>\n",
              "      <th>tweets2</th>\n",
              "      <th>tweets3</th>\n",
              "      <th>tweets4</th>\n",
              "      <th>tweets5</th>\n",
              "    </tr>\n",
              "  </thead>\n",
              "  <tbody>\n",
              "    <tr>\n",
              "      <th>0</th>\n",
              "      <td>0</td>\n",
              "      <td>@user when a father is dysfunctional and is s...</td>\n",
              "      <td>when a father is dysfunctional and is so sel...</td>\n",
              "      <td>when a father is dysfunctional and is so sel...</td>\n",
              "      <td>[when, a, father, is, dysfunctional, and, is, ...</td>\n",
              "      <td>[father, dysfunctional, selfish, drags, kids, ...</td>\n",
              "      <td>[father, dysfunctional, selfish, drags, kids, ...</td>\n",
              "    </tr>\n",
              "    <tr>\n",
              "      <th>1</th>\n",
              "      <td>0</td>\n",
              "      <td>@user @user thanks for #lyft credit i can't us...</td>\n",
              "      <td>thanks for #lyft credit i can't use cause th...</td>\n",
              "      <td>thanks for #lyft credit i can't use cause th...</td>\n",
              "      <td>[thanks, for, #lyft, credit, i, can't, use, ca...</td>\n",
              "      <td>[thanks, #lyft, credit, can't, use, cause, off...</td>\n",
              "      <td>[thanks, #lyft, credit, can't, use, cause, off...</td>\n",
              "    </tr>\n",
              "    <tr>\n",
              "      <th>2</th>\n",
              "      <td>0</td>\n",
              "      <td>bihday your majesty</td>\n",
              "      <td>bihday your majesty</td>\n",
              "      <td>bihday your majesty</td>\n",
              "      <td>[bihday, your, majesty]</td>\n",
              "      <td>[bihday, majesty]</td>\n",
              "      <td>[bihday, majesty]</td>\n",
              "    </tr>\n",
              "    <tr>\n",
              "      <th>3</th>\n",
              "      <td>0</td>\n",
              "      <td>#model   i love u take with u all the time in ...</td>\n",
              "      <td>#model   i love u take with u all the time in ...</td>\n",
              "      <td>#model   i love u take with u all the time in ...</td>\n",
              "      <td>[#model, i, love, u, take, with, u, all, the, ...</td>\n",
              "      <td>[#model, love, u, take, u, time, urð, , , ±,...</td>\n",
              "      <td>[#model, love, u, take, u, time, urð, , , ±,...</td>\n",
              "    </tr>\n",
              "    <tr>\n",
              "      <th>4</th>\n",
              "      <td>0</td>\n",
              "      <td>factsguide: society now    #motivation</td>\n",
              "      <td>factsguide: society now    #motivation</td>\n",
              "      <td>factsguide: society now    #motivation</td>\n",
              "      <td>[factsguide, :, society, now, #motivation]</td>\n",
              "      <td>[factsguide, :, society, #motivation]</td>\n",
              "      <td>[factsguide, :, society, #motivation]</td>\n",
              "    </tr>\n",
              "  </tbody>\n",
              "</table>\n",
              "</div>"
            ],
            "text/plain": [
              "   label                                              tweet  \\\n",
              "0      0   @user when a father is dysfunctional and is s...   \n",
              "1      0  @user @user thanks for #lyft credit i can't us...   \n",
              "2      0                                bihday your majesty   \n",
              "3      0  #model   i love u take with u all the time in ...   \n",
              "4      0             factsguide: society now    #motivation   \n",
              "\n",
              "                                             tweets1  \\\n",
              "0    when a father is dysfunctional and is so sel...   \n",
              "1    thanks for #lyft credit i can't use cause th...   \n",
              "2                                bihday your majesty   \n",
              "3  #model   i love u take with u all the time in ...   \n",
              "4             factsguide: society now    #motivation   \n",
              "\n",
              "                                             tweets2  \\\n",
              "0    when a father is dysfunctional and is so sel...   \n",
              "1    thanks for #lyft credit i can't use cause th...   \n",
              "2                                bihday your majesty   \n",
              "3  #model   i love u take with u all the time in ...   \n",
              "4             factsguide: society now    #motivation   \n",
              "\n",
              "                                             tweets3  \\\n",
              "0  [when, a, father, is, dysfunctional, and, is, ...   \n",
              "1  [thanks, for, #lyft, credit, i, can't, use, ca...   \n",
              "2                            [bihday, your, majesty]   \n",
              "3  [#model, i, love, u, take, with, u, all, the, ...   \n",
              "4         [factsguide, :, society, now, #motivation]   \n",
              "\n",
              "                                             tweets4  \\\n",
              "0  [father, dysfunctional, selfish, drags, kids, ...   \n",
              "1  [thanks, #lyft, credit, can't, use, cause, off...   \n",
              "2                                  [bihday, majesty]   \n",
              "3  [#model, love, u, take, u, time, urð, , , ±,...   \n",
              "4              [factsguide, :, society, #motivation]   \n",
              "\n",
              "                                             tweets5  \n",
              "0  [father, dysfunctional, selfish, drags, kids, ...  \n",
              "1  [thanks, #lyft, credit, can't, use, cause, off...  \n",
              "2                                  [bihday, majesty]  \n",
              "3  [#model, love, u, take, u, time, urð, , , ±,...  \n",
              "4              [factsguide, :, society, #motivation]  "
            ]
          },
          "execution_count": 47,
          "metadata": {},
          "output_type": "execute_result"
        }
      ],
      "source": [
        "df.head()"
      ]
    },
    {
      "cell_type": "markdown",
      "id": "7f229dfa",
      "metadata": {
        "id": "7f229dfa"
      },
      "source": [
        "Extra cleanup by removing terms with a length of 1."
      ]
    },
    {
      "cell_type": "code",
      "execution_count": null,
      "id": "acc0c268",
      "metadata": {
        "id": "acc0c268"
      },
      "outputs": [],
      "source": [
        "def remove_token_lenght1(tweet):\n",
        "    tokens= [i for i in tweet if len(i)>1]\n",
        "    return tokens"
      ]
    },
    {
      "cell_type": "code",
      "execution_count": null,
      "id": "61333aa3",
      "metadata": {
        "id": "61333aa3"
      },
      "outputs": [],
      "source": [
        "df['tweets6']=df['tweets5'].apply(remove_token_lenght1)"
      ]
    },
    {
      "cell_type": "code",
      "execution_count": null,
      "id": "245c7003",
      "metadata": {
        "id": "245c7003",
        "outputId": "02434131-a5aa-4949-b5bd-883a032ea82f"
      },
      "outputs": [
        {
          "data": {
            "text/html": [
              "<div>\n",
              "<style scoped>\n",
              "    .dataframe tbody tr th:only-of-type {\n",
              "        vertical-align: middle;\n",
              "    }\n",
              "\n",
              "    .dataframe tbody tr th {\n",
              "        vertical-align: top;\n",
              "    }\n",
              "\n",
              "    .dataframe thead th {\n",
              "        text-align: right;\n",
              "    }\n",
              "</style>\n",
              "<table border=\"1\" class=\"dataframe\">\n",
              "  <thead>\n",
              "    <tr style=\"text-align: right;\">\n",
              "      <th></th>\n",
              "      <th>label</th>\n",
              "      <th>tweet</th>\n",
              "      <th>tweets1</th>\n",
              "      <th>tweets2</th>\n",
              "      <th>tweets3</th>\n",
              "      <th>tweets4</th>\n",
              "      <th>tweets5</th>\n",
              "      <th>tweets6</th>\n",
              "    </tr>\n",
              "  </thead>\n",
              "  <tbody>\n",
              "    <tr>\n",
              "      <th>0</th>\n",
              "      <td>0</td>\n",
              "      <td>@user when a father is dysfunctional and is s...</td>\n",
              "      <td>when a father is dysfunctional and is so sel...</td>\n",
              "      <td>when a father is dysfunctional and is so sel...</td>\n",
              "      <td>[when, a, father, is, dysfunctional, and, is, ...</td>\n",
              "      <td>[father, dysfunctional, selfish, drags, kids, ...</td>\n",
              "      <td>[father, dysfunctional, selfish, drags, kids, ...</td>\n",
              "      <td>[father, dysfunctional, selfish, drags, kids, ...</td>\n",
              "    </tr>\n",
              "    <tr>\n",
              "      <th>1</th>\n",
              "      <td>0</td>\n",
              "      <td>@user @user thanks for #lyft credit i can't us...</td>\n",
              "      <td>thanks for #lyft credit i can't use cause th...</td>\n",
              "      <td>thanks for #lyft credit i can't use cause th...</td>\n",
              "      <td>[thanks, for, #lyft, credit, i, can't, use, ca...</td>\n",
              "      <td>[thanks, #lyft, credit, can't, use, cause, off...</td>\n",
              "      <td>[thanks, #lyft, credit, can't, use, cause, off...</td>\n",
              "      <td>[thanks, #lyft, credit, can't, use, cause, off...</td>\n",
              "    </tr>\n",
              "    <tr>\n",
              "      <th>2</th>\n",
              "      <td>0</td>\n",
              "      <td>bihday your majesty</td>\n",
              "      <td>bihday your majesty</td>\n",
              "      <td>bihday your majesty</td>\n",
              "      <td>[bihday, your, majesty]</td>\n",
              "      <td>[bihday, majesty]</td>\n",
              "      <td>[bihday, majesty]</td>\n",
              "      <td>[bihday, majesty]</td>\n",
              "    </tr>\n",
              "    <tr>\n",
              "      <th>3</th>\n",
              "      <td>0</td>\n",
              "      <td>#model   i love u take with u all the time in ...</td>\n",
              "      <td>#model   i love u take with u all the time in ...</td>\n",
              "      <td>#model   i love u take with u all the time in ...</td>\n",
              "      <td>[#model, i, love, u, take, with, u, all, the, ...</td>\n",
              "      <td>[#model, love, u, take, u, time, urð, , , ±,...</td>\n",
              "      <td>[#model, love, u, take, u, time, urð, , , ±,...</td>\n",
              "      <td>[#model, love, take, time, urð]</td>\n",
              "    </tr>\n",
              "    <tr>\n",
              "      <th>4</th>\n",
              "      <td>0</td>\n",
              "      <td>factsguide: society now    #motivation</td>\n",
              "      <td>factsguide: society now    #motivation</td>\n",
              "      <td>factsguide: society now    #motivation</td>\n",
              "      <td>[factsguide, :, society, now, #motivation]</td>\n",
              "      <td>[factsguide, :, society, #motivation]</td>\n",
              "      <td>[factsguide, :, society, #motivation]</td>\n",
              "      <td>[factsguide, society, #motivation]</td>\n",
              "    </tr>\n",
              "  </tbody>\n",
              "</table>\n",
              "</div>"
            ],
            "text/plain": [
              "   label                                              tweet  \\\n",
              "0      0   @user when a father is dysfunctional and is s...   \n",
              "1      0  @user @user thanks for #lyft credit i can't us...   \n",
              "2      0                                bihday your majesty   \n",
              "3      0  #model   i love u take with u all the time in ...   \n",
              "4      0             factsguide: society now    #motivation   \n",
              "\n",
              "                                             tweets1  \\\n",
              "0    when a father is dysfunctional and is so sel...   \n",
              "1    thanks for #lyft credit i can't use cause th...   \n",
              "2                                bihday your majesty   \n",
              "3  #model   i love u take with u all the time in ...   \n",
              "4             factsguide: society now    #motivation   \n",
              "\n",
              "                                             tweets2  \\\n",
              "0    when a father is dysfunctional and is so sel...   \n",
              "1    thanks for #lyft credit i can't use cause th...   \n",
              "2                                bihday your majesty   \n",
              "3  #model   i love u take with u all the time in ...   \n",
              "4             factsguide: society now    #motivation   \n",
              "\n",
              "                                             tweets3  \\\n",
              "0  [when, a, father, is, dysfunctional, and, is, ...   \n",
              "1  [thanks, for, #lyft, credit, i, can't, use, ca...   \n",
              "2                            [bihday, your, majesty]   \n",
              "3  [#model, i, love, u, take, with, u, all, the, ...   \n",
              "4         [factsguide, :, society, now, #motivation]   \n",
              "\n",
              "                                             tweets4  \\\n",
              "0  [father, dysfunctional, selfish, drags, kids, ...   \n",
              "1  [thanks, #lyft, credit, can't, use, cause, off...   \n",
              "2                                  [bihday, majesty]   \n",
              "3  [#model, love, u, take, u, time, urð, , , ±,...   \n",
              "4              [factsguide, :, society, #motivation]   \n",
              "\n",
              "                                             tweets5  \\\n",
              "0  [father, dysfunctional, selfish, drags, kids, ...   \n",
              "1  [thanks, #lyft, credit, can't, use, cause, off...   \n",
              "2                                  [bihday, majesty]   \n",
              "3  [#model, love, u, take, u, time, urð, , , ±,...   \n",
              "4              [factsguide, :, society, #motivation]   \n",
              "\n",
              "                                             tweets6  \n",
              "0  [father, dysfunctional, selfish, drags, kids, ...  \n",
              "1  [thanks, #lyft, credit, can't, use, cause, off...  \n",
              "2                                  [bihday, majesty]  \n",
              "3                    [#model, love, take, time, urð]  \n",
              "4                 [factsguide, society, #motivation]  "
            ]
          },
          "execution_count": 130,
          "metadata": {},
          "output_type": "execute_result"
        }
      ],
      "source": [
        "df.head()"
      ]
    },
    {
      "cell_type": "code",
      "execution_count": null,
      "id": "fa34929a",
      "metadata": {
        "id": "fa34929a",
        "outputId": "3de87c3b-85b6-4903-e211-79e082d3b7f7"
      },
      "outputs": [
        {
          "data": {
            "text/plain": [
              "array([list(['way', '#emeraldstreetlitfest', 'first', 'ever', '#litfest', '#books'])],\n",
              "      dtype=object)"
            ]
          },
          "execution_count": 70,
          "metadata": {},
          "output_type": "execute_result"
        }
      ],
      "source": [
        "df.tweets6.sample().values"
      ]
    },
    {
      "cell_type": "code",
      "execution_count": null,
      "id": "626349cd",
      "metadata": {
        "id": "626349cd"
      },
      "outputs": [],
      "source": [
        "#Remove ‘#’ symbols from the tweet while retaining the term."
      ]
    },
    {
      "cell_type": "code",
      "execution_count": null,
      "id": "8e20d5f5",
      "metadata": {
        "id": "8e20d5f5"
      },
      "outputs": [],
      "source": [
        "def remove_hashtags(tweet):\n",
        "    modified_tweet= re.sub(r'#(\\w+)\\b',r'\\1',str(tweet))\n",
        "    return ast.literal_eval(modified_tweet)"
      ]
    },
    {
      "cell_type": "code",
      "execution_count": null,
      "id": "bdb1b59c",
      "metadata": {
        "id": "bdb1b59c"
      },
      "outputs": [],
      "source": [
        "df['tweets7']=df['tweets6'].apply(remove_hashtags)"
      ]
    },
    {
      "cell_type": "code",
      "execution_count": null,
      "id": "4ccd2a08",
      "metadata": {
        "id": "4ccd2a08",
        "outputId": "4914bcdf-9dcd-4b4e-a2b5-33866676d21c"
      },
      "outputs": [
        {
          "data": {
            "text/html": [
              "<div>\n",
              "<style scoped>\n",
              "    .dataframe tbody tr th:only-of-type {\n",
              "        vertical-align: middle;\n",
              "    }\n",
              "\n",
              "    .dataframe tbody tr th {\n",
              "        vertical-align: top;\n",
              "    }\n",
              "\n",
              "    .dataframe thead th {\n",
              "        text-align: right;\n",
              "    }\n",
              "</style>\n",
              "<table border=\"1\" class=\"dataframe\">\n",
              "  <thead>\n",
              "    <tr style=\"text-align: right;\">\n",
              "      <th></th>\n",
              "      <th>label</th>\n",
              "      <th>tweet</th>\n",
              "      <th>tweets1</th>\n",
              "      <th>tweets2</th>\n",
              "      <th>tweets3</th>\n",
              "      <th>tweets4</th>\n",
              "      <th>tweets5</th>\n",
              "      <th>tweets6</th>\n",
              "      <th>tweets7</th>\n",
              "    </tr>\n",
              "  </thead>\n",
              "  <tbody>\n",
              "    <tr>\n",
              "      <th>0</th>\n",
              "      <td>0</td>\n",
              "      <td>@user when a father is dysfunctional and is s...</td>\n",
              "      <td>when a father is dysfunctional and is so sel...</td>\n",
              "      <td>when a father is dysfunctional and is so sel...</td>\n",
              "      <td>[when, a, father, is, dysfunctional, and, is, ...</td>\n",
              "      <td>[father, dysfunctional, selfish, drags, kids, ...</td>\n",
              "      <td>[father, dysfunctional, selfish, drags, kids, ...</td>\n",
              "      <td>[father, dysfunctional, selfish, drags, kids, ...</td>\n",
              "      <td>[father, dysfunctional, selfish, drags, kids, ...</td>\n",
              "    </tr>\n",
              "    <tr>\n",
              "      <th>1</th>\n",
              "      <td>0</td>\n",
              "      <td>@user @user thanks for #lyft credit i can't us...</td>\n",
              "      <td>thanks for #lyft credit i can't use cause th...</td>\n",
              "      <td>thanks for #lyft credit i can't use cause th...</td>\n",
              "      <td>[thanks, for, #lyft, credit, i, can't, use, ca...</td>\n",
              "      <td>[thanks, #lyft, credit, can't, use, cause, off...</td>\n",
              "      <td>[thanks, #lyft, credit, can't, use, cause, off...</td>\n",
              "      <td>[thanks, #lyft, credit, can't, use, cause, off...</td>\n",
              "      <td>[thanks, lyft, credit, can't, use, cause, offe...</td>\n",
              "    </tr>\n",
              "    <tr>\n",
              "      <th>2</th>\n",
              "      <td>0</td>\n",
              "      <td>bihday your majesty</td>\n",
              "      <td>bihday your majesty</td>\n",
              "      <td>bihday your majesty</td>\n",
              "      <td>[bihday, your, majesty]</td>\n",
              "      <td>[bihday, majesty]</td>\n",
              "      <td>[bihday, majesty]</td>\n",
              "      <td>[bihday, majesty]</td>\n",
              "      <td>[bihday, majesty]</td>\n",
              "    </tr>\n",
              "    <tr>\n",
              "      <th>3</th>\n",
              "      <td>0</td>\n",
              "      <td>#model   i love u take with u all the time in ...</td>\n",
              "      <td>#model   i love u take with u all the time in ...</td>\n",
              "      <td>#model   i love u take with u all the time in ...</td>\n",
              "      <td>[#model, i, love, u, take, with, u, all, the, ...</td>\n",
              "      <td>[#model, love, u, take, u, time, urð, , , ±,...</td>\n",
              "      <td>[#model, love, u, take, u, time, urð, , , ±,...</td>\n",
              "      <td>[#model, love, take, time, urð]</td>\n",
              "      <td>[model, love, take, time, urð]</td>\n",
              "    </tr>\n",
              "    <tr>\n",
              "      <th>4</th>\n",
              "      <td>0</td>\n",
              "      <td>factsguide: society now    #motivation</td>\n",
              "      <td>factsguide: society now    #motivation</td>\n",
              "      <td>factsguide: society now    #motivation</td>\n",
              "      <td>[factsguide, :, society, now, #motivation]</td>\n",
              "      <td>[factsguide, :, society, #motivation]</td>\n",
              "      <td>[factsguide, :, society, #motivation]</td>\n",
              "      <td>[factsguide, society, #motivation]</td>\n",
              "      <td>[factsguide, society, motivation]</td>\n",
              "    </tr>\n",
              "  </tbody>\n",
              "</table>\n",
              "</div>"
            ],
            "text/plain": [
              "   label                                              tweet  \\\n",
              "0      0   @user when a father is dysfunctional and is s...   \n",
              "1      0  @user @user thanks for #lyft credit i can't us...   \n",
              "2      0                                bihday your majesty   \n",
              "3      0  #model   i love u take with u all the time in ...   \n",
              "4      0             factsguide: society now    #motivation   \n",
              "\n",
              "                                             tweets1  \\\n",
              "0    when a father is dysfunctional and is so sel...   \n",
              "1    thanks for #lyft credit i can't use cause th...   \n",
              "2                                bihday your majesty   \n",
              "3  #model   i love u take with u all the time in ...   \n",
              "4             factsguide: society now    #motivation   \n",
              "\n",
              "                                             tweets2  \\\n",
              "0    when a father is dysfunctional and is so sel...   \n",
              "1    thanks for #lyft credit i can't use cause th...   \n",
              "2                                bihday your majesty   \n",
              "3  #model   i love u take with u all the time in ...   \n",
              "4             factsguide: society now    #motivation   \n",
              "\n",
              "                                             tweets3  \\\n",
              "0  [when, a, father, is, dysfunctional, and, is, ...   \n",
              "1  [thanks, for, #lyft, credit, i, can't, use, ca...   \n",
              "2                            [bihday, your, majesty]   \n",
              "3  [#model, i, love, u, take, with, u, all, the, ...   \n",
              "4         [factsguide, :, society, now, #motivation]   \n",
              "\n",
              "                                             tweets4  \\\n",
              "0  [father, dysfunctional, selfish, drags, kids, ...   \n",
              "1  [thanks, #lyft, credit, can't, use, cause, off...   \n",
              "2                                  [bihday, majesty]   \n",
              "3  [#model, love, u, take, u, time, urð, , , ±,...   \n",
              "4              [factsguide, :, society, #motivation]   \n",
              "\n",
              "                                             tweets5  \\\n",
              "0  [father, dysfunctional, selfish, drags, kids, ...   \n",
              "1  [thanks, #lyft, credit, can't, use, cause, off...   \n",
              "2                                  [bihday, majesty]   \n",
              "3  [#model, love, u, take, u, time, urð, , , ±,...   \n",
              "4              [factsguide, :, society, #motivation]   \n",
              "\n",
              "                                             tweets6  \\\n",
              "0  [father, dysfunctional, selfish, drags, kids, ...   \n",
              "1  [thanks, #lyft, credit, can't, use, cause, off...   \n",
              "2                                  [bihday, majesty]   \n",
              "3                    [#model, love, take, time, urð]   \n",
              "4                 [factsguide, society, #motivation]   \n",
              "\n",
              "                                             tweets7  \n",
              "0  [father, dysfunctional, selfish, drags, kids, ...  \n",
              "1  [thanks, lyft, credit, can't, use, cause, offe...  \n",
              "2                                  [bihday, majesty]  \n",
              "3                     [model, love, take, time, urð]  \n",
              "4                  [factsguide, society, motivation]  "
            ]
          },
          "execution_count": 133,
          "metadata": {},
          "output_type": "execute_result"
        }
      ],
      "source": [
        "df.head()"
      ]
    },
    {
      "cell_type": "code",
      "execution_count": null,
      "id": "26bb7842",
      "metadata": {
        "id": "26bb7842"
      },
      "outputs": [],
      "source": [
        "def remove_non_alphanum(tweet):\n",
        "    tokens_list=[i for i in tweet if i.isalnum()]\n",
        "    return tokens_list"
      ]
    },
    {
      "cell_type": "code",
      "execution_count": null,
      "id": "0d0b227d",
      "metadata": {
        "id": "0d0b227d"
      },
      "outputs": [],
      "source": [
        "df['tweets8']=df['tweets7'].apply(remove_non_alphanum)"
      ]
    },
    {
      "cell_type": "code",
      "execution_count": null,
      "id": "b45900de",
      "metadata": {
        "id": "b45900de",
        "outputId": "1c2c2743-3bed-4622-9c1b-ee8da77a551a"
      },
      "outputs": [
        {
          "data": {
            "text/html": [
              "<div>\n",
              "<style scoped>\n",
              "    .dataframe tbody tr th:only-of-type {\n",
              "        vertical-align: middle;\n",
              "    }\n",
              "\n",
              "    .dataframe tbody tr th {\n",
              "        vertical-align: top;\n",
              "    }\n",
              "\n",
              "    .dataframe thead th {\n",
              "        text-align: right;\n",
              "    }\n",
              "</style>\n",
              "<table border=\"1\" class=\"dataframe\">\n",
              "  <thead>\n",
              "    <tr style=\"text-align: right;\">\n",
              "      <th></th>\n",
              "      <th>label</th>\n",
              "      <th>tweet</th>\n",
              "      <th>tweets1</th>\n",
              "      <th>tweets2</th>\n",
              "      <th>tweets3</th>\n",
              "      <th>tweets4</th>\n",
              "      <th>tweets5</th>\n",
              "      <th>tweets6</th>\n",
              "      <th>tweets7</th>\n",
              "      <th>tweets8</th>\n",
              "    </tr>\n",
              "  </thead>\n",
              "  <tbody>\n",
              "    <tr>\n",
              "      <th>0</th>\n",
              "      <td>0</td>\n",
              "      <td>@user when a father is dysfunctional and is s...</td>\n",
              "      <td>when a father is dysfunctional and is so sel...</td>\n",
              "      <td>when a father is dysfunctional and is so sel...</td>\n",
              "      <td>[when, a, father, is, dysfunctional, and, is, ...</td>\n",
              "      <td>[father, dysfunctional, selfish, drags, kids, ...</td>\n",
              "      <td>[father, dysfunctional, selfish, drags, kids, ...</td>\n",
              "      <td>[father, dysfunctional, selfish, drags, kids, ...</td>\n",
              "      <td>[father, dysfunctional, selfish, drags, kids, ...</td>\n",
              "      <td>[father, dysfunctional, selfish, drags, kids, ...</td>\n",
              "    </tr>\n",
              "    <tr>\n",
              "      <th>1</th>\n",
              "      <td>0</td>\n",
              "      <td>@user @user thanks for #lyft credit i can't us...</td>\n",
              "      <td>thanks for #lyft credit i can't use cause th...</td>\n",
              "      <td>thanks for #lyft credit i can't use cause th...</td>\n",
              "      <td>[thanks, for, #lyft, credit, i, can't, use, ca...</td>\n",
              "      <td>[thanks, #lyft, credit, can't, use, cause, off...</td>\n",
              "      <td>[thanks, #lyft, credit, can't, use, cause, off...</td>\n",
              "      <td>[thanks, #lyft, credit, can't, use, cause, off...</td>\n",
              "      <td>[thanks, lyft, credit, can't, use, cause, offe...</td>\n",
              "      <td>[thanks, lyft, credit, use, cause, offer, whee...</td>\n",
              "    </tr>\n",
              "    <tr>\n",
              "      <th>2</th>\n",
              "      <td>0</td>\n",
              "      <td>bihday your majesty</td>\n",
              "      <td>bihday your majesty</td>\n",
              "      <td>bihday your majesty</td>\n",
              "      <td>[bihday, your, majesty]</td>\n",
              "      <td>[bihday, majesty]</td>\n",
              "      <td>[bihday, majesty]</td>\n",
              "      <td>[bihday, majesty]</td>\n",
              "      <td>[bihday, majesty]</td>\n",
              "      <td>[bihday, majesty]</td>\n",
              "    </tr>\n",
              "    <tr>\n",
              "      <th>3</th>\n",
              "      <td>0</td>\n",
              "      <td>#model   i love u take with u all the time in ...</td>\n",
              "      <td>#model   i love u take with u all the time in ...</td>\n",
              "      <td>#model   i love u take with u all the time in ...</td>\n",
              "      <td>[#model, i, love, u, take, with, u, all, the, ...</td>\n",
              "      <td>[#model, love, u, take, u, time, urð, , , ±,...</td>\n",
              "      <td>[#model, love, u, take, u, time, urð, , , ±,...</td>\n",
              "      <td>[#model, love, take, time, urð]</td>\n",
              "      <td>[model, love, take, time, urð]</td>\n",
              "      <td>[model, love, take, time, urð]</td>\n",
              "    </tr>\n",
              "    <tr>\n",
              "      <th>4</th>\n",
              "      <td>0</td>\n",
              "      <td>factsguide: society now    #motivation</td>\n",
              "      <td>factsguide: society now    #motivation</td>\n",
              "      <td>factsguide: society now    #motivation</td>\n",
              "      <td>[factsguide, :, society, now, #motivation]</td>\n",
              "      <td>[factsguide, :, society, #motivation]</td>\n",
              "      <td>[factsguide, :, society, #motivation]</td>\n",
              "      <td>[factsguide, society, #motivation]</td>\n",
              "      <td>[factsguide, society, motivation]</td>\n",
              "      <td>[factsguide, society, motivation]</td>\n",
              "    </tr>\n",
              "  </tbody>\n",
              "</table>\n",
              "</div>"
            ],
            "text/plain": [
              "   label                                              tweet  \\\n",
              "0      0   @user when a father is dysfunctional and is s...   \n",
              "1      0  @user @user thanks for #lyft credit i can't us...   \n",
              "2      0                                bihday your majesty   \n",
              "3      0  #model   i love u take with u all the time in ...   \n",
              "4      0             factsguide: society now    #motivation   \n",
              "\n",
              "                                             tweets1  \\\n",
              "0    when a father is dysfunctional and is so sel...   \n",
              "1    thanks for #lyft credit i can't use cause th...   \n",
              "2                                bihday your majesty   \n",
              "3  #model   i love u take with u all the time in ...   \n",
              "4             factsguide: society now    #motivation   \n",
              "\n",
              "                                             tweets2  \\\n",
              "0    when a father is dysfunctional and is so sel...   \n",
              "1    thanks for #lyft credit i can't use cause th...   \n",
              "2                                bihday your majesty   \n",
              "3  #model   i love u take with u all the time in ...   \n",
              "4             factsguide: society now    #motivation   \n",
              "\n",
              "                                             tweets3  \\\n",
              "0  [when, a, father, is, dysfunctional, and, is, ...   \n",
              "1  [thanks, for, #lyft, credit, i, can't, use, ca...   \n",
              "2                            [bihday, your, majesty]   \n",
              "3  [#model, i, love, u, take, with, u, all, the, ...   \n",
              "4         [factsguide, :, society, now, #motivation]   \n",
              "\n",
              "                                             tweets4  \\\n",
              "0  [father, dysfunctional, selfish, drags, kids, ...   \n",
              "1  [thanks, #lyft, credit, can't, use, cause, off...   \n",
              "2                                  [bihday, majesty]   \n",
              "3  [#model, love, u, take, u, time, urð, , , ±,...   \n",
              "4              [factsguide, :, society, #motivation]   \n",
              "\n",
              "                                             tweets5  \\\n",
              "0  [father, dysfunctional, selfish, drags, kids, ...   \n",
              "1  [thanks, #lyft, credit, can't, use, cause, off...   \n",
              "2                                  [bihday, majesty]   \n",
              "3  [#model, love, u, take, u, time, urð, , , ±,...   \n",
              "4              [factsguide, :, society, #motivation]   \n",
              "\n",
              "                                             tweets6  \\\n",
              "0  [father, dysfunctional, selfish, drags, kids, ...   \n",
              "1  [thanks, #lyft, credit, can't, use, cause, off...   \n",
              "2                                  [bihday, majesty]   \n",
              "3                    [#model, love, take, time, urð]   \n",
              "4                 [factsguide, society, #motivation]   \n",
              "\n",
              "                                             tweets7  \\\n",
              "0  [father, dysfunctional, selfish, drags, kids, ...   \n",
              "1  [thanks, lyft, credit, can't, use, cause, offe...   \n",
              "2                                  [bihday, majesty]   \n",
              "3                     [model, love, take, time, urð]   \n",
              "4                  [factsguide, society, motivation]   \n",
              "\n",
              "                                             tweets8  \n",
              "0  [father, dysfunctional, selfish, drags, kids, ...  \n",
              "1  [thanks, lyft, credit, use, cause, offer, whee...  \n",
              "2                                  [bihday, majesty]  \n",
              "3                     [model, love, take, time, urð]  \n",
              "4                  [factsguide, society, motivation]  "
            ]
          },
          "execution_count": 154,
          "metadata": {},
          "output_type": "execute_result"
        }
      ],
      "source": [
        "df.head()"
      ]
    },
    {
      "cell_type": "code",
      "execution_count": null,
      "id": "e46236ae",
      "metadata": {
        "id": "e46236ae"
      },
      "outputs": [],
      "source": [
        "from collections import Counter"
      ]
    },
    {
      "cell_type": "code",
      "execution_count": null,
      "id": "7d4747ac",
      "metadata": {
        "id": "7d4747ac"
      },
      "outputs": [],
      "source": [
        "tokens_list=[j for i in df['tweets8'] for j in i]"
      ]
    },
    {
      "cell_type": "code",
      "execution_count": null,
      "id": "d126d98f",
      "metadata": {
        "id": "d126d98f"
      },
      "outputs": [],
      "source": [
        "most_common_tokens=Counter(tokens_list).most_common(10)"
      ]
    },
    {
      "cell_type": "code",
      "execution_count": null,
      "id": "6d79bfbd",
      "metadata": {
        "id": "6d79bfbd",
        "outputId": "bdb0dc79-3d5f-4a1c-8256-fbff8d4417b9"
      },
      "outputs": [
        {
          "data": {
            "text/plain": [
              "[('love', 2748),\n",
              " ('day', 2276),\n",
              " ('happy', 1684),\n",
              " ('time', 1131),\n",
              " ('life', 1118),\n",
              " ('like', 1047),\n",
              " ('today', 1013),\n",
              " ('new', 994),\n",
              " ('thankful', 946),\n",
              " ('positive', 931)]"
            ]
          },
          "execution_count": 160,
          "metadata": {},
          "output_type": "execute_result"
        }
      ],
      "source": [
        "most_common_tokens"
      ]
    },
    {
      "cell_type": "code",
      "execution_count": null,
      "id": "e2782414",
      "metadata": {
        "id": "e2782414"
      },
      "outputs": [],
      "source": []
    }
  ],
  "metadata": {
    "kernelspec": {
      "display_name": "Python 3 (ipykernel)",
      "language": "python",
      "name": "python3"
    },
    "language_info": {
      "codemirror_mode": {
        "name": "ipython",
        "version": 3
      },
      "file_extension": ".py",
      "mimetype": "text/x-python",
      "name": "python",
      "nbconvert_exporter": "python",
      "pygments_lexer": "ipython3",
      "version": "3.9.13"
    },
    "colab": {
      "provenance": [],
      "include_colab_link": true
    }
  },
  "nbformat": 4,
  "nbformat_minor": 5
}