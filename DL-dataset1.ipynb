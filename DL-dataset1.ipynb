{
  "cells": [
    {
      "cell_type": "markdown",
      "metadata": {
        "id": "view-in-github",
        "colab_type": "text"
      },
      "source": [
        "<a href=\"https://colab.research.google.com/github/RojaCM/NLP/blob/main/DL-dataset1.ipynb\" target=\"_parent\"><img src=\"https://colab.research.google.com/assets/colab-badge.svg\" alt=\"Open In Colab\"/></a>"
      ]
    },
    {
      "cell_type": "markdown",
      "metadata": {
        "id": "rNV0khuMKFKR"
      },
      "source": [
        "### MLP for the two circles problem"
      ]
    },
    {
      "cell_type": "code",
      "execution_count": 1,
      "metadata": {
        "id": "alz-IWFhKFKT"
      },
      "outputs": [],
      "source": [
        "import numpy as np\n",
        "from sklearn.datasets import make_circles\n",
        "from keras.models import Sequential\n",
        "from keras.layers import Dense\n",
        "from keras.optimizers import SGD\n",
        "from matplotlib import pyplot"
      ]
    },
    {
      "cell_type": "markdown",
      "metadata": {
        "id": "iheYEY7xKFKV"
      },
      "source": [
        "### Generate 2d classification dataset"
      ]
    },
    {
      "cell_type": "code",
      "execution_count": 2,
      "metadata": {
        "id": "3-W2q2WMKFKV"
      },
      "outputs": [],
      "source": [
        "X, y = make_circles(n_samples=1000, noise=0.1, random_state=1)"
      ]
    },
    {
      "cell_type": "code",
      "execution_count": 3,
      "metadata": {
        "colab": {
          "base_uri": "https://localhost:8080/"
        },
        "id": "Noh_C3DhKFKV",
        "outputId": "c168c49a-1258-4d21-df31-970d4f84ceff"
      },
      "outputs": [
        {
          "output_type": "execute_result",
          "data": {
            "text/plain": [
              "((1000, 2), array([0, 1]))"
            ]
          },
          "metadata": {},
          "execution_count": 3
        }
      ],
      "source": [
        "X.shape, np.unique(y)"
      ]
    },
    {
      "cell_type": "markdown",
      "metadata": {
        "id": "YS86RJddKFKW"
      },
      "source": [
        "### split into train and test"
      ]
    },
    {
      "cell_type": "code",
      "execution_count": 4,
      "metadata": {
        "id": "dK9zgaKwKFKW"
      },
      "outputs": [],
      "source": [
        "n_train = 500\n",
        "trainX, testX = X[:n_train, :], X[n_train:, :]\n",
        "trainy, testy = y[:n_train], y[n_train:]"
      ]
    },
    {
      "cell_type": "markdown",
      "metadata": {
        "id": "EzSu1g9AKFKW"
      },
      "source": [
        "### Define model"
      ]
    },
    {
      "cell_type": "code",
      "execution_count": 5,
      "metadata": {
        "colab": {
          "base_uri": "https://localhost:8080/"
        },
        "id": "FkxO6HAFKFKW",
        "outputId": "faf11c6b-fdec-4473-b82d-cbed1a6e43c9"
      },
      "outputs": [
        {
          "output_type": "stream",
          "name": "stderr",
          "text": [
            "/usr/local/lib/python3.10/dist-packages/keras/optimizers/legacy/gradient_descent.py:114: UserWarning: The `lr` argument is deprecated, use `learning_rate` instead.\n",
            "  super().__init__(name, **kwargs)\n"
          ]
        }
      ],
      "source": [
        "model = Sequential()\n",
        "model.add(Dense(50, input_dim=2, activation='relu'))\n",
        "model.add(Dense(1, activation='sigmoid'))\n",
        "opt = SGD(lr=0.01)\n",
        "model.compile(loss='binary_crossentropy', optimizer=opt, metrics=['accuracy'])"
      ]
    },
    {
      "cell_type": "markdown",
      "metadata": {
        "id": "hoYMNP8BKFKW"
      },
      "source": [
        "### Fit model"
      ]
    },
    {
      "cell_type": "code",
      "execution_count": 6,
      "metadata": {
        "colab": {
          "base_uri": "https://localhost:8080/"
        },
        "id": "Ja8PbkclKFKX",
        "outputId": "49357b65-c6a7-4c4a-ab08-53214b4ddb28"
      },
      "outputs": [
        {
          "output_type": "stream",
          "name": "stdout",
          "text": [
            "Epoch 1/100\n",
            "16/16 [==============================] - 1s 17ms/step - loss: 0.6965 - accuracy: 0.4940 - val_loss: 0.6959 - val_accuracy: 0.4980\n",
            "Epoch 2/100\n",
            "16/16 [==============================] - 0s 7ms/step - loss: 0.6960 - accuracy: 0.4880 - val_loss: 0.6957 - val_accuracy: 0.5080\n",
            "Epoch 3/100\n",
            "16/16 [==============================] - 0s 5ms/step - loss: 0.6956 - accuracy: 0.4920 - val_loss: 0.6956 - val_accuracy: 0.4980\n",
            "Epoch 4/100\n",
            "16/16 [==============================] - 0s 4ms/step - loss: 0.6952 - accuracy: 0.4940 - val_loss: 0.6954 - val_accuracy: 0.4900\n",
            "Epoch 5/100\n",
            "16/16 [==============================] - 0s 7ms/step - loss: 0.6949 - accuracy: 0.4780 - val_loss: 0.6953 - val_accuracy: 0.4960\n",
            "Epoch 6/100\n",
            "16/16 [==============================] - 0s 5ms/step - loss: 0.6945 - accuracy: 0.4980 - val_loss: 0.6952 - val_accuracy: 0.5020\n",
            "Epoch 7/100\n",
            "16/16 [==============================] - 0s 5ms/step - loss: 0.6942 - accuracy: 0.5020 - val_loss: 0.6951 - val_accuracy: 0.5060\n",
            "Epoch 8/100\n",
            "16/16 [==============================] - 0s 5ms/step - loss: 0.6939 - accuracy: 0.5080 - val_loss: 0.6950 - val_accuracy: 0.4960\n",
            "Epoch 9/100\n",
            "16/16 [==============================] - 0s 5ms/step - loss: 0.6935 - accuracy: 0.5060 - val_loss: 0.6949 - val_accuracy: 0.4940\n",
            "Epoch 10/100\n",
            "16/16 [==============================] - 0s 4ms/step - loss: 0.6933 - accuracy: 0.5020 - val_loss: 0.6948 - val_accuracy: 0.4880\n",
            "Epoch 11/100\n",
            "16/16 [==============================] - 0s 4ms/step - loss: 0.6930 - accuracy: 0.5000 - val_loss: 0.6947 - val_accuracy: 0.4940\n",
            "Epoch 12/100\n",
            "16/16 [==============================] - 0s 4ms/step - loss: 0.6927 - accuracy: 0.5080 - val_loss: 0.6947 - val_accuracy: 0.4840\n",
            "Epoch 13/100\n",
            "16/16 [==============================] - 0s 4ms/step - loss: 0.6924 - accuracy: 0.5140 - val_loss: 0.6946 - val_accuracy: 0.4800\n",
            "Epoch 14/100\n",
            "16/16 [==============================] - 0s 4ms/step - loss: 0.6922 - accuracy: 0.5160 - val_loss: 0.6945 - val_accuracy: 0.4760\n",
            "Epoch 15/100\n",
            "16/16 [==============================] - 0s 4ms/step - loss: 0.6920 - accuracy: 0.5160 - val_loss: 0.6944 - val_accuracy: 0.4740\n",
            "Epoch 16/100\n",
            "16/16 [==============================] - 0s 7ms/step - loss: 0.6918 - accuracy: 0.5140 - val_loss: 0.6944 - val_accuracy: 0.4720\n",
            "Epoch 17/100\n",
            "16/16 [==============================] - 0s 4ms/step - loss: 0.6915 - accuracy: 0.5120 - val_loss: 0.6943 - val_accuracy: 0.4740\n",
            "Epoch 18/100\n",
            "16/16 [==============================] - 0s 4ms/step - loss: 0.6913 - accuracy: 0.5140 - val_loss: 0.6942 - val_accuracy: 0.4780\n",
            "Epoch 19/100\n",
            "16/16 [==============================] - 0s 9ms/step - loss: 0.6911 - accuracy: 0.5200 - val_loss: 0.6942 - val_accuracy: 0.4720\n",
            "Epoch 20/100\n",
            "16/16 [==============================] - 0s 8ms/step - loss: 0.6909 - accuracy: 0.5200 - val_loss: 0.6941 - val_accuracy: 0.4740\n",
            "Epoch 21/100\n",
            "16/16 [==============================] - 0s 11ms/step - loss: 0.6907 - accuracy: 0.5220 - val_loss: 0.6940 - val_accuracy: 0.4820\n",
            "Epoch 22/100\n",
            "16/16 [==============================] - 0s 7ms/step - loss: 0.6905 - accuracy: 0.5260 - val_loss: 0.6940 - val_accuracy: 0.4840\n",
            "Epoch 23/100\n",
            "16/16 [==============================] - 0s 8ms/step - loss: 0.6903 - accuracy: 0.5200 - val_loss: 0.6939 - val_accuracy: 0.4860\n",
            "Epoch 24/100\n",
            "16/16 [==============================] - 0s 7ms/step - loss: 0.6901 - accuracy: 0.5260 - val_loss: 0.6939 - val_accuracy: 0.4880\n",
            "Epoch 25/100\n",
            "16/16 [==============================] - 0s 9ms/step - loss: 0.6899 - accuracy: 0.5340 - val_loss: 0.6938 - val_accuracy: 0.4880\n",
            "Epoch 26/100\n",
            "16/16 [==============================] - 0s 7ms/step - loss: 0.6897 - accuracy: 0.5300 - val_loss: 0.6938 - val_accuracy: 0.4900\n",
            "Epoch 27/100\n",
            "16/16 [==============================] - 0s 9ms/step - loss: 0.6895 - accuracy: 0.5320 - val_loss: 0.6937 - val_accuracy: 0.4880\n",
            "Epoch 28/100\n",
            "16/16 [==============================] - 0s 7ms/step - loss: 0.6894 - accuracy: 0.5420 - val_loss: 0.6936 - val_accuracy: 0.4860\n",
            "Epoch 29/100\n",
            "16/16 [==============================] - 0s 6ms/step - loss: 0.6892 - accuracy: 0.5420 - val_loss: 0.6936 - val_accuracy: 0.4860\n",
            "Epoch 30/100\n",
            "16/16 [==============================] - 0s 6ms/step - loss: 0.6890 - accuracy: 0.5360 - val_loss: 0.6935 - val_accuracy: 0.4860\n",
            "Epoch 31/100\n",
            "16/16 [==============================] - 0s 7ms/step - loss: 0.6888 - accuracy: 0.5400 - val_loss: 0.6934 - val_accuracy: 0.4880\n",
            "Epoch 32/100\n",
            "16/16 [==============================] - 0s 6ms/step - loss: 0.6887 - accuracy: 0.5340 - val_loss: 0.6934 - val_accuracy: 0.4900\n",
            "Epoch 33/100\n",
            "16/16 [==============================] - 0s 9ms/step - loss: 0.6885 - accuracy: 0.5400 - val_loss: 0.6933 - val_accuracy: 0.4900\n",
            "Epoch 34/100\n",
            "16/16 [==============================] - 0s 9ms/step - loss: 0.6883 - accuracy: 0.5380 - val_loss: 0.6932 - val_accuracy: 0.4940\n",
            "Epoch 35/100\n",
            "16/16 [==============================] - 0s 8ms/step - loss: 0.6881 - accuracy: 0.5420 - val_loss: 0.6932 - val_accuracy: 0.4940\n",
            "Epoch 36/100\n",
            "16/16 [==============================] - 0s 10ms/step - loss: 0.6879 - accuracy: 0.5440 - val_loss: 0.6931 - val_accuracy: 0.4900\n",
            "Epoch 37/100\n",
            "16/16 [==============================] - 0s 9ms/step - loss: 0.6878 - accuracy: 0.5440 - val_loss: 0.6930 - val_accuracy: 0.4920\n",
            "Epoch 38/100\n",
            "16/16 [==============================] - 0s 5ms/step - loss: 0.6876 - accuracy: 0.5540 - val_loss: 0.6930 - val_accuracy: 0.4900\n",
            "Epoch 39/100\n",
            "16/16 [==============================] - 0s 4ms/step - loss: 0.6875 - accuracy: 0.5460 - val_loss: 0.6929 - val_accuracy: 0.4900\n",
            "Epoch 40/100\n",
            "16/16 [==============================] - 0s 4ms/step - loss: 0.6872 - accuracy: 0.5480 - val_loss: 0.6928 - val_accuracy: 0.4920\n",
            "Epoch 41/100\n",
            "16/16 [==============================] - 0s 4ms/step - loss: 0.6871 - accuracy: 0.5480 - val_loss: 0.6928 - val_accuracy: 0.4940\n",
            "Epoch 42/100\n",
            "16/16 [==============================] - 0s 5ms/step - loss: 0.6870 - accuracy: 0.5680 - val_loss: 0.6927 - val_accuracy: 0.4980\n",
            "Epoch 43/100\n",
            "16/16 [==============================] - 0s 5ms/step - loss: 0.6868 - accuracy: 0.5560 - val_loss: 0.6926 - val_accuracy: 0.4980\n",
            "Epoch 44/100\n",
            "16/16 [==============================] - 0s 4ms/step - loss: 0.6866 - accuracy: 0.5580 - val_loss: 0.6925 - val_accuracy: 0.5000\n",
            "Epoch 45/100\n",
            "16/16 [==============================] - 0s 4ms/step - loss: 0.6865 - accuracy: 0.5520 - val_loss: 0.6924 - val_accuracy: 0.5080\n",
            "Epoch 46/100\n",
            "16/16 [==============================] - 0s 4ms/step - loss: 0.6863 - accuracy: 0.5540 - val_loss: 0.6924 - val_accuracy: 0.5120\n",
            "Epoch 47/100\n",
            "16/16 [==============================] - 0s 5ms/step - loss: 0.6862 - accuracy: 0.5600 - val_loss: 0.6923 - val_accuracy: 0.5180\n",
            "Epoch 48/100\n",
            "16/16 [==============================] - 0s 4ms/step - loss: 0.6861 - accuracy: 0.5700 - val_loss: 0.6922 - val_accuracy: 0.5200\n",
            "Epoch 49/100\n",
            "16/16 [==============================] - 0s 4ms/step - loss: 0.6859 - accuracy: 0.5700 - val_loss: 0.6921 - val_accuracy: 0.5220\n",
            "Epoch 50/100\n",
            "16/16 [==============================] - 0s 4ms/step - loss: 0.6857 - accuracy: 0.5780 - val_loss: 0.6920 - val_accuracy: 0.5240\n",
            "Epoch 51/100\n",
            "16/16 [==============================] - 0s 4ms/step - loss: 0.6856 - accuracy: 0.5760 - val_loss: 0.6919 - val_accuracy: 0.5420\n",
            "Epoch 52/100\n",
            "16/16 [==============================] - 0s 5ms/step - loss: 0.6853 - accuracy: 0.5680 - val_loss: 0.6918 - val_accuracy: 0.5420\n",
            "Epoch 53/100\n",
            "16/16 [==============================] - 0s 8ms/step - loss: 0.6852 - accuracy: 0.5820 - val_loss: 0.6917 - val_accuracy: 0.5420\n",
            "Epoch 54/100\n",
            "16/16 [==============================] - 0s 5ms/step - loss: 0.6850 - accuracy: 0.5800 - val_loss: 0.6916 - val_accuracy: 0.5420\n",
            "Epoch 55/100\n",
            "16/16 [==============================] - 0s 7ms/step - loss: 0.6849 - accuracy: 0.5820 - val_loss: 0.6914 - val_accuracy: 0.5440\n",
            "Epoch 56/100\n",
            "16/16 [==============================] - 0s 5ms/step - loss: 0.6847 - accuracy: 0.5780 - val_loss: 0.6913 - val_accuracy: 0.5440\n",
            "Epoch 57/100\n",
            "16/16 [==============================] - 0s 4ms/step - loss: 0.6845 - accuracy: 0.5840 - val_loss: 0.6912 - val_accuracy: 0.5420\n",
            "Epoch 58/100\n",
            "16/16 [==============================] - 0s 4ms/step - loss: 0.6844 - accuracy: 0.5780 - val_loss: 0.6911 - val_accuracy: 0.5420\n",
            "Epoch 59/100\n",
            "16/16 [==============================] - 0s 5ms/step - loss: 0.6843 - accuracy: 0.5940 - val_loss: 0.6910 - val_accuracy: 0.5420\n",
            "Epoch 60/100\n",
            "16/16 [==============================] - 0s 4ms/step - loss: 0.6840 - accuracy: 0.5820 - val_loss: 0.6909 - val_accuracy: 0.5400\n",
            "Epoch 61/100\n",
            "16/16 [==============================] - 0s 5ms/step - loss: 0.6839 - accuracy: 0.5840 - val_loss: 0.6908 - val_accuracy: 0.5460\n",
            "Epoch 62/100\n",
            "16/16 [==============================] - 0s 4ms/step - loss: 0.6838 - accuracy: 0.5820 - val_loss: 0.6907 - val_accuracy: 0.5480\n",
            "Epoch 63/100\n",
            "16/16 [==============================] - 0s 4ms/step - loss: 0.6836 - accuracy: 0.5860 - val_loss: 0.6906 - val_accuracy: 0.5500\n",
            "Epoch 64/100\n",
            "16/16 [==============================] - 0s 7ms/step - loss: 0.6834 - accuracy: 0.5840 - val_loss: 0.6905 - val_accuracy: 0.5480\n",
            "Epoch 65/100\n",
            "16/16 [==============================] - 0s 5ms/step - loss: 0.6833 - accuracy: 0.5880 - val_loss: 0.6904 - val_accuracy: 0.5480\n",
            "Epoch 66/100\n",
            "16/16 [==============================] - 0s 4ms/step - loss: 0.6831 - accuracy: 0.5840 - val_loss: 0.6903 - val_accuracy: 0.5480\n",
            "Epoch 67/100\n",
            "16/16 [==============================] - 0s 7ms/step - loss: 0.6830 - accuracy: 0.5860 - val_loss: 0.6902 - val_accuracy: 0.5500\n",
            "Epoch 68/100\n",
            "16/16 [==============================] - 0s 4ms/step - loss: 0.6828 - accuracy: 0.5900 - val_loss: 0.6902 - val_accuracy: 0.5500\n",
            "Epoch 69/100\n",
            "16/16 [==============================] - 0s 5ms/step - loss: 0.6827 - accuracy: 0.5880 - val_loss: 0.6900 - val_accuracy: 0.5520\n",
            "Epoch 70/100\n",
            "16/16 [==============================] - 0s 5ms/step - loss: 0.6825 - accuracy: 0.5900 - val_loss: 0.6899 - val_accuracy: 0.5520\n",
            "Epoch 71/100\n",
            "16/16 [==============================] - 0s 4ms/step - loss: 0.6824 - accuracy: 0.5860 - val_loss: 0.6898 - val_accuracy: 0.5520\n",
            "Epoch 72/100\n",
            "16/16 [==============================] - 0s 4ms/step - loss: 0.6823 - accuracy: 0.5900 - val_loss: 0.6897 - val_accuracy: 0.5520\n",
            "Epoch 73/100\n",
            "16/16 [==============================] - 0s 5ms/step - loss: 0.6821 - accuracy: 0.5960 - val_loss: 0.6896 - val_accuracy: 0.5500\n",
            "Epoch 74/100\n",
            "16/16 [==============================] - 0s 5ms/step - loss: 0.6820 - accuracy: 0.5940 - val_loss: 0.6895 - val_accuracy: 0.5480\n",
            "Epoch 75/100\n",
            "16/16 [==============================] - 0s 5ms/step - loss: 0.6818 - accuracy: 0.5940 - val_loss: 0.6895 - val_accuracy: 0.5480\n",
            "Epoch 76/100\n",
            "16/16 [==============================] - 0s 5ms/step - loss: 0.6817 - accuracy: 0.5900 - val_loss: 0.6894 - val_accuracy: 0.5520\n",
            "Epoch 77/100\n",
            "16/16 [==============================] - 0s 4ms/step - loss: 0.6815 - accuracy: 0.5920 - val_loss: 0.6892 - val_accuracy: 0.5520\n",
            "Epoch 78/100\n",
            "16/16 [==============================] - 0s 4ms/step - loss: 0.6813 - accuracy: 0.5920 - val_loss: 0.6891 - val_accuracy: 0.5500\n",
            "Epoch 79/100\n",
            "16/16 [==============================] - 0s 7ms/step - loss: 0.6813 - accuracy: 0.5960 - val_loss: 0.6890 - val_accuracy: 0.5520\n",
            "Epoch 80/100\n",
            "16/16 [==============================] - 0s 5ms/step - loss: 0.6811 - accuracy: 0.6020 - val_loss: 0.6889 - val_accuracy: 0.5520\n",
            "Epoch 81/100\n",
            "16/16 [==============================] - 0s 5ms/step - loss: 0.6810 - accuracy: 0.5980 - val_loss: 0.6888 - val_accuracy: 0.5540\n",
            "Epoch 82/100\n",
            "16/16 [==============================] - 0s 5ms/step - loss: 0.6808 - accuracy: 0.5940 - val_loss: 0.6887 - val_accuracy: 0.5540\n",
            "Epoch 83/100\n",
            "16/16 [==============================] - 0s 4ms/step - loss: 0.6807 - accuracy: 0.6000 - val_loss: 0.6886 - val_accuracy: 0.5520\n",
            "Epoch 84/100\n",
            "16/16 [==============================] - 0s 7ms/step - loss: 0.6806 - accuracy: 0.6020 - val_loss: 0.6885 - val_accuracy: 0.5520\n",
            "Epoch 85/100\n",
            "16/16 [==============================] - 0s 4ms/step - loss: 0.6804 - accuracy: 0.6000 - val_loss: 0.6884 - val_accuracy: 0.5540\n",
            "Epoch 86/100\n",
            "16/16 [==============================] - 0s 4ms/step - loss: 0.6802 - accuracy: 0.5980 - val_loss: 0.6882 - val_accuracy: 0.5540\n",
            "Epoch 87/100\n",
            "16/16 [==============================] - 0s 4ms/step - loss: 0.6801 - accuracy: 0.6020 - val_loss: 0.6881 - val_accuracy: 0.5560\n",
            "Epoch 88/100\n",
            "16/16 [==============================] - 0s 5ms/step - loss: 0.6800 - accuracy: 0.6000 - val_loss: 0.6880 - val_accuracy: 0.5580\n",
            "Epoch 89/100\n",
            "16/16 [==============================] - 0s 5ms/step - loss: 0.6798 - accuracy: 0.6000 - val_loss: 0.6879 - val_accuracy: 0.5580\n",
            "Epoch 90/100\n",
            "16/16 [==============================] - 0s 4ms/step - loss: 0.6796 - accuracy: 0.6020 - val_loss: 0.6877 - val_accuracy: 0.5560\n",
            "Epoch 91/100\n",
            "16/16 [==============================] - 0s 4ms/step - loss: 0.6796 - accuracy: 0.6040 - val_loss: 0.6876 - val_accuracy: 0.5540\n",
            "Epoch 92/100\n",
            "16/16 [==============================] - 0s 5ms/step - loss: 0.6793 - accuracy: 0.6060 - val_loss: 0.6875 - val_accuracy: 0.5540\n",
            "Epoch 93/100\n",
            "16/16 [==============================] - 0s 5ms/step - loss: 0.6792 - accuracy: 0.6100 - val_loss: 0.6873 - val_accuracy: 0.5620\n",
            "Epoch 94/100\n",
            "16/16 [==============================] - 0s 5ms/step - loss: 0.6791 - accuracy: 0.6120 - val_loss: 0.6872 - val_accuracy: 0.5540\n",
            "Epoch 95/100\n",
            "16/16 [==============================] - 0s 4ms/step - loss: 0.6789 - accuracy: 0.6100 - val_loss: 0.6871 - val_accuracy: 0.5520\n",
            "Epoch 96/100\n",
            "16/16 [==============================] - 0s 4ms/step - loss: 0.6788 - accuracy: 0.6120 - val_loss: 0.6870 - val_accuracy: 0.5560\n",
            "Epoch 97/100\n",
            "16/16 [==============================] - 0s 4ms/step - loss: 0.6786 - accuracy: 0.6060 - val_loss: 0.6868 - val_accuracy: 0.5600\n",
            "Epoch 98/100\n",
            "16/16 [==============================] - 0s 4ms/step - loss: 0.6785 - accuracy: 0.6140 - val_loss: 0.6867 - val_accuracy: 0.5680\n",
            "Epoch 99/100\n",
            "16/16 [==============================] - 0s 5ms/step - loss: 0.6783 - accuracy: 0.6160 - val_loss: 0.6866 - val_accuracy: 0.5680\n",
            "Epoch 100/100\n",
            "16/16 [==============================] - 0s 4ms/step - loss: 0.6782 - accuracy: 0.6140 - val_loss: 0.6864 - val_accuracy: 0.5680\n"
          ]
        }
      ],
      "source": [
        "history = model.fit(trainX, trainy, validation_data=(testX, testy), epochs=100, verbose=1)"
      ]
    },
    {
      "cell_type": "markdown",
      "metadata": {
        "id": "a-heft8yKFKX"
      },
      "source": [
        "### Evaluate the model"
      ]
    },
    {
      "cell_type": "code",
      "execution_count": 7,
      "metadata": {
        "colab": {
          "base_uri": "https://localhost:8080/"
        },
        "id": "t-ae_WQ2KFKX",
        "outputId": "d72fc769-9d6d-4301-cadf-fed59d400235"
      },
      "outputs": [
        {
          "output_type": "stream",
          "name": "stdout",
          "text": [
            "Train: 0.618, Test: 0.568\n"
          ]
        }
      ],
      "source": [
        "_, train_acc = model.evaluate(trainX, trainy, verbose=0)\n",
        "_, test_acc = model.evaluate(testX, testy, verbose=0)\n",
        "print('Train: %.3f, Test: %.3f' % (train_acc, test_acc))"
      ]
    },
    {
      "cell_type": "markdown",
      "metadata": {
        "id": "jVMr-GYtKFKX"
      },
      "source": [
        "### Plot history"
      ]
    },
    {
      "cell_type": "code",
      "execution_count": 9,
      "metadata": {
        "colab": {
          "base_uri": "https://localhost:8080/",
          "height": 430
        },
        "id": "uR1A_Lj4KFKY",
        "outputId": "4f26f0f7-6e2b-443f-866b-e304a7b0b1b2"
      },
      "outputs": [
        {
          "output_type": "display_data",
          "data": {
            "text/plain": [
              "<Figure size 640x480 with 1 Axes>"
            ],
            "image/png": "[encoded data removed]"
          },
          "metadata": {}
        }
      ],
      "source": [
        "pyplot.plot(history.history['accuracy'], label='train')\n",
        "pyplot.plot(history.history['val_accuracy'], label='test')\n",
        "pyplot.legend()\n",
        "pyplot.show()"
      ]
    },
    {
      "cell_type": "code",
      "execution_count": null,
      "metadata": {
        "id": "2jPOB40_KFKY"
      },
      "outputs": [],
      "source": []
    },
    {
      "cell_type": "code",
      "execution_count": null,
      "metadata": {
        "id": "b06VnXnEKFKY"
      },
      "outputs": [],
      "source": []
    },
    {
      "cell_type": "code",
      "execution_count": null,
      "metadata": {
        "id": "-k8inEeRKFKY"
      },
      "outputs": [],
      "source": []
    },
    {
      "cell_type": "code",
      "execution_count": null,
      "metadata": {
        "id": "Yogy1dJVKFKY"
      },
      "outputs": [],
      "source": []
    },
    {
      "cell_type": "code",
      "execution_count": null,
      "metadata": {
        "id": "xdq1FxamKFKY"
      },
      "outputs": [],
      "source": []
    },
    {
      "cell_type": "code",
      "execution_count": null,
      "metadata": {
        "id": "rrldT_lhKFKZ"
      },
      "outputs": [],
      "source": []
    },
    {
      "cell_type": "code",
      "execution_count": null,
      "metadata": {
        "id": "MTorZID7KFKZ"
      },
      "outputs": [],
      "source": []
    },
    {
      "cell_type": "code",
      "execution_count": null,
      "metadata": {
        "id": "peGvK2FoKFKZ"
      },
      "outputs": [],
      "source": []
    },
    {
      "cell_type": "code",
      "execution_count": null,
      "metadata": {
        "id": "g-UmT9NFKFKZ"
      },
      "outputs": [],
      "source": []
    },
    {
      "cell_type": "code",
      "execution_count": null,
      "metadata": {
        "id": "NCuY__d-KFKZ"
      },
      "outputs": [],
      "source": []
    },
    {
      "cell_type": "code",
      "execution_count": null,
      "metadata": {
        "id": "ke5-R0gdKFKZ"
      },
      "outputs": [],
      "source": []
    },
    {
      "cell_type": "code",
      "execution_count": null,
      "metadata": {
        "id": "S51hyPzUKFKZ"
      },
      "outputs": [],
      "source": []
    },
    {
      "cell_type": "code",
      "execution_count": null,
      "metadata": {
        "id": "dKVySlBIKFKZ"
      },
      "outputs": [],
      "source": []
    },
    {
      "cell_type": "code",
      "execution_count": null,
      "metadata": {
        "id": "HEeLvfoeKFKZ"
      },
      "outputs": [],
      "source": []
    },
    {
      "cell_type": "code",
      "execution_count": null,
      "metadata": {
        "id": "d7VyF8RZKFKZ"
      },
      "outputs": [],
      "source": []
    },
    {
      "cell_type": "code",
      "execution_count": null,
      "metadata": {
        "id": "8wt7CXOTKFKa"
      },
      "outputs": [],
      "source": []
    },
    {
      "cell_type": "code",
      "execution_count": null,
      "metadata": {
        "id": "N9LrWVbMKFKa"
      },
      "outputs": [],
      "source": []
    },
    {
      "cell_type": "code",
      "execution_count": null,
      "metadata": {
        "id": "mgj0HnKkKFKa"
      },
      "outputs": [],
      "source": []
    },
    {
      "cell_type": "code",
      "execution_count": null,
      "metadata": {
        "id": "7pn_A6StKFKa"
      },
      "outputs": [],
      "source": []
    },
    {
      "cell_type": "code",
      "execution_count": null,
      "metadata": {
        "id": "yiRx8sVCKFKa"
      },
      "outputs": [],
      "source": []
    },
    {
      "cell_type": "code",
      "execution_count": null,
      "metadata": {
        "id": "1u2M6FTJKFKa"
      },
      "outputs": [],
      "source": []
    },
    {
      "cell_type": "code",
      "execution_count": null,
      "metadata": {
        "id": "jm6aZr7rKFKa"
      },
      "outputs": [],
      "source": []
    },
    {
      "cell_type": "code",
      "execution_count": null,
      "metadata": {
        "id": "P1eG3ixIKFKa"
      },
      "outputs": [],
      "source": []
    },
    {
      "cell_type": "code",
      "execution_count": null,
      "metadata": {
        "id": "TDaJHm6BKFKa"
      },
      "outputs": [],
      "source": []
    }
  ],
  "metadata": {
    "kernelspec": {
      "display_name": "Python 3 [3.10]",
      "language": "python",
      "name": "python3"
    },
    "language_info": {
      "codemirror_mode": {
        "name": "ipython",
        "version": 3
      },
      "file_extension": ".py",
      "mimetype": "text/x-python",
      "name": "python",
      "nbconvert_exporter": "python",
      "pygments_lexer": "ipython3",
      "version": "3.10.2"
    },
    "colab": {
      "provenance": [],
      "include_colab_link": true
    }
  },
  "nbformat": 4,
  "nbformat_minor": 0
}