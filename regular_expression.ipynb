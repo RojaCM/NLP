{
  "cells": [
    {
      "cell_type": "markdown",
      "metadata": {
        "id": "view-in-github",
        "colab_type": "text"
      },
      "source": [
        "<a href=\"https://colab.research.google.com/github/RojaCM/NLP/blob/main/regular_expression.ipynb\" target=\"_parent\"><img src=\"https://colab.research.google.com/assets/colab-badge.svg\" alt=\"Open In Colab\"/></a>"
      ]
    },
    {
      "cell_type": "markdown",
      "metadata": {
        "id": "P-c3nZzV8Exu"
      },
      "source": [
        "### Regular Expressions (RegEx) in Python"
      ]
    },
    {
      "cell_type": "markdown",
      "metadata": {
        "id": "eGVIJpXf8EyC"
      },
      "source": [
        "A Regular Expression (RegEx) is a sequence of chararcters which describes a textual pattern.\n",
        "\n",
        "In Python, re package that provides a set of methods to perform various RegEx operations."
      ]
    },
    {
      "cell_type": "code",
      "execution_count": null,
      "metadata": {
        "id": "WEiFTu_N8EyF"
      },
      "outputs": [],
      "source": [
        "# import the reuqired package\n",
        "\n",
        "import re"
      ]
    },
    {
      "cell_type": "markdown",
      "metadata": {
        "id": "2cQdkNrP8EyN"
      },
      "source": [
        "Major functions that are avaialble in re:\n",
        "\n",
        "1. `Compile` - Returns a RegEx pattern object.\n",
        "2. `Search` - Returns a match object if there is a match found.\n",
        "3. `findall` - Returns a list of all matches.\n",
        "4. `sub` - Replaces one or more matches within the text.\n",
        "5. `split` - Returns a list where the text has been split at every match."
      ]
    },
    {
      "cell_type": "code",
      "execution_count": null,
      "metadata": {
        "id": "CoLr-hVa8EyQ"
      },
      "outputs": [],
      "source": []
    },
    {
      "cell_type": "markdown",
      "metadata": {
        "id": "hZh3tEYk8EyR"
      },
      "source": [
        "#### Create a Pattern object"
      ]
    },
    {
      "cell_type": "markdown",
      "metadata": {
        "id": "afhk8-eM8EyY"
      },
      "source": [
        "![Reg1](Re1.png)"
      ]
    },
    {
      "cell_type": "code",
      "execution_count": null,
      "metadata": {
        "id": "jzRA8sc18Eyd",
        "outputId": "69e9f98c-1393-42a8-8bfa-a95e34218af7"
      },
      "outputs": [
        {
          "name": "stdout",
          "output_type": "stream",
          "text": [
            "\\tTab\n"
          ]
        }
      ],
      "source": [
        "## raw string. What is raw string\n",
        "print(r'\\tTab')"
      ]
    },
    {
      "cell_type": "code",
      "execution_count": null,
      "metadata": {
        "id": "vwSxHYgP8Eyi",
        "outputId": "e9e48a43-d4b5-42a1-ee65-3128b7ed7770"
      },
      "outputs": [
        {
          "name": "stdout",
          "output_type": "stream",
          "text": [
            "\\tPhani\n"
          ]
        }
      ],
      "source": [
        "print(r'\\tPhani')"
      ]
    },
    {
      "cell_type": "code",
      "execution_count": null,
      "metadata": {
        "id": "J4z3hV_q8Eyk"
      },
      "outputs": [],
      "source": [
        "# A RegEx pattern object for a mobile number - '9944912345'\n",
        "\n",
        "pattern = re.compile('\\d\\d\\d\\d\\d\\d\\d\\d\\d\\d')\n",
        "\n"
      ]
    },
    {
      "cell_type": "code",
      "execution_count": null,
      "metadata": {
        "id": "K_-tjZ-B8Eym",
        "outputId": "9dfce6f7-8f25-4f97-aafd-206b10186d7d"
      },
      "outputs": [
        {
          "data": {
            "text/plain": [
              "re.Pattern"
            ]
          },
          "execution_count": 230,
          "metadata": {},
          "output_type": "execute_result"
        }
      ],
      "source": []
    },
    {
      "cell_type": "markdown",
      "metadata": {
        "id": "XbBQd5Sz8Eyn"
      },
      "source": [
        "#### create a match object"
      ]
    },
    {
      "cell_type": "code",
      "execution_count": null,
      "metadata": {
        "id": "2t7kocn98Eyp"
      },
      "outputs": [],
      "source": [
        "text1 = '''Support around JioFiber is now just a WhatsApp away.\n",
        "Click Here to open the support channel on WhatsApp. Alternatively, you can send \"Hi\" to 7000570005 to get started.'''"
      ]
    },
    {
      "cell_type": "markdown",
      "metadata": {
        "id": "PQyZZVGI8Eys"
      },
      "source": [
        "- search() will return a `Match object` if the pattern is found else it will return `None`."
      ]
    },
    {
      "cell_type": "code",
      "execution_count": null,
      "metadata": {
        "id": "q-gr6jQR8Eyt"
      },
      "outputs": [],
      "source": [
        "# Create pattern\n",
        "pattern = re.compile('\\d\\d\\d\\d\\d\\d\\d\\d\\d\\d')"
      ]
    },
    {
      "cell_type": "code",
      "execution_count": null,
      "metadata": {
        "id": "NGrjCLsc8Eyv"
      },
      "outputs": [],
      "source": [
        "# search for matches\n",
        "matches = pattern.search(text1)"
      ]
    },
    {
      "cell_type": "code",
      "execution_count": null,
      "metadata": {
        "id": "8hx989Sv8Eyw",
        "outputId": "ec09e3fe-2542-4485-bdbe-f46ce9a4ea8e"
      },
      "outputs": [
        {
          "data": {
            "text/plain": [
              "'7000570005'"
            ]
          },
          "execution_count": 8,
          "metadata": {},
          "output_type": "execute_result"
        }
      ],
      "source": [
        "# Check type\n",
        "matches.group()"
      ]
    },
    {
      "cell_type": "markdown",
      "metadata": {
        "id": "WccNu9D-8Eyy"
      },
      "source": [
        "- `group()` returns the matched text"
      ]
    },
    {
      "cell_type": "code",
      "execution_count": null,
      "metadata": {
        "id": "87J03vTA8Eyy"
      },
      "outputs": [],
      "source": []
    },
    {
      "cell_type": "code",
      "execution_count": null,
      "metadata": {
        "id": "uSq9Tco-8Eyz"
      },
      "outputs": [],
      "source": []
    },
    {
      "cell_type": "code",
      "execution_count": null,
      "metadata": {
        "id": "6cxy_qFy8Eyz"
      },
      "outputs": [],
      "source": [
        "text2 = '''JioCare\n",
        "\n",
        "Our experts are available for your assistance 24x7 (Monday - Sunday)\n",
        "\n",
        "Interested in Jio? Talk to us on 1860-893-3333\n",
        "For recharge plans, data balance, validity, recharge confirmation & offers 1991\n",
        "For Queries 199\n",
        "For Complaints 198\n",
        "For Other numbers 1800-889-9999 860-889-9999\n",
        "Tele-verification to activate both HD voice & data services 1977\n",
        "Tele-verification to activate data services only 1800-890-1977\n",
        "For support on International Roaming\n",
        "(accessible only when roaming abroad) +917018899999 (charges applicable)\n",
        "Device Care Helpline (JioPhone, LYF Mobile & JioFi)\n",
        "\n",
        "Our experts are available for your assistance on all Days, from 9am to 9pm\n",
        "\n",
        "\n",
        "Helpline 1800-890-9999\n",
        "Jio Enterprise Mobility & Business Solutions\n",
        "\n",
        "Our experts are available for your assistance 24x7 (Monday - Sunday)\n",
        "\n",
        "Enterprise Mobility Services 1800-889-9333\n",
        "Enterprise Connectivity Services & Business Solutions 1800-889-9444\n",
        "New Business Connection 1800-889-9555\n",
        "Care Helpline for JioFiber Customers\n",
        "\n",
        "Our experts are available for your assistance 24X7 (Monday – Sunday)\n",
        "\n",
        "Helpline 1800-896-9999 +91-701-889-9999\n",
        "Online shopping\n",
        "\n",
        "For any online shopping related assistance, reach out to our experts between 9 am to 9 pm (Monday – Sunday)\n",
        "\n",
        "Helpline 1800-893-3399'''"
      ]
    },
    {
      "cell_type": "code",
      "execution_count": null,
      "metadata": {
        "id": "JFaMphHF8Ey2"
      },
      "outputs": [],
      "source": [
        "pattern = re.compile('\\d\\d\\d\\d\\-\\d\\d\\d\\-\\d\\d\\d')"
      ]
    },
    {
      "cell_type": "code",
      "execution_count": null,
      "metadata": {
        "id": "Ow5G5v8p8Ey3"
      },
      "outputs": [],
      "source": [
        "# check differen levels of group()\n"
      ]
    },
    {
      "cell_type": "code",
      "execution_count": null,
      "metadata": {
        "id": "h1hvXuM28Ey4"
      },
      "outputs": [],
      "source": [
        "matches = pattern.search(text2)"
      ]
    },
    {
      "cell_type": "code",
      "execution_count": null,
      "metadata": {
        "id": "73LWeyds8Ey6",
        "outputId": "822300e1-65e8-4c69-d398-1e43e7d4e048"
      },
      "outputs": [
        {
          "name": "stdout",
          "output_type": "stream",
          "text": [
            "1860-893-333\n"
          ]
        }
      ],
      "source": [
        "print(matches.group())"
      ]
    },
    {
      "cell_type": "code",
      "execution_count": null,
      "metadata": {
        "id": "XBRJSq3n8Ey8"
      },
      "outputs": [],
      "source": [
        "matches = pattern.finditer(text2)"
      ]
    },
    {
      "cell_type": "code",
      "execution_count": null,
      "metadata": {
        "id": "2_koAKs78Ey9",
        "outputId": "aeedacb2-2e31-48b4-d660-23d180173426"
      },
      "outputs": [
        {
          "name": "stdout",
          "output_type": "stream",
          "text": [
            "<re.Match object; span=(112, 124), match='1860-893-333'>\n",
            "1860-893-333\n",
            "<re.Match object; span=(259, 271), match='1800-889-999'>\n",
            "1800-889-999\n",
            "<re.Match object; span=(400, 412), match='1800-890-197'>\n",
            "1800-890-197\n",
            "<re.Match object; span=(663, 675), match='1800-890-999'>\n",
            "1800-890-999\n",
            "<re.Match object; span=(822, 834), match='1800-889-933'>\n",
            "1800-889-933\n",
            "<re.Match object; span=(890, 902), match='1800-889-944'>\n",
            "1800-889-944\n",
            "<re.Match object; span=(928, 940), match='1800-889-955'>\n",
            "1800-889-955\n",
            "<re.Match object; span=(1059, 1071), match='1800-896-999'>\n",
            "1800-896-999\n",
            "<re.Match object; span=(1226, 1238), match='1800-893-339'>\n",
            "1800-893-339\n"
          ]
        }
      ],
      "source": [
        "for match in matches:\n",
        "    print(match)\n",
        "    print(match.group())"
      ]
    },
    {
      "cell_type": "code",
      "execution_count": null,
      "metadata": {
        "id": "-Qni02MD8Ey-"
      },
      "outputs": [],
      "source": [
        "# create the pattern with groups using \"()\"\n"
      ]
    },
    {
      "cell_type": "code",
      "execution_count": null,
      "metadata": {
        "id": "hgzlzNFM8Ey_"
      },
      "outputs": [],
      "source": [
        "matches = pattern.search(text2)"
      ]
    },
    {
      "cell_type": "code",
      "execution_count": null,
      "metadata": {
        "id": "KJODIAMB8EzA"
      },
      "outputs": [],
      "source": [
        "# check all groups"
      ]
    },
    {
      "cell_type": "code",
      "execution_count": null,
      "metadata": {
        "id": "OU2-yZyG8EzA"
      },
      "outputs": [],
      "source": []
    },
    {
      "cell_type": "code",
      "execution_count": null,
      "metadata": {
        "id": "1vMNWAWi8EzB"
      },
      "outputs": [],
      "source": []
    },
    {
      "cell_type": "code",
      "execution_count": null,
      "metadata": {
        "id": "WZ141r2v8EzD"
      },
      "outputs": [],
      "source": [
        "# create the patternfor - +917018899999 with groups using \"()\""
      ]
    },
    {
      "cell_type": "code",
      "execution_count": null,
      "metadata": {
        "id": "hTON0ieU8EzE"
      },
      "outputs": [],
      "source": []
    },
    {
      "cell_type": "markdown",
      "metadata": {
        "id": "MQia3iPy8EzE"
      },
      "source": [
        "#### Macthing parantheses in text"
      ]
    },
    {
      "cell_type": "code",
      "execution_count": null,
      "metadata": {
        "id": "v_dD9cNZ8EzF"
      },
      "outputs": [],
      "source": [
        "text3 = '(accessible only when roaming abroad) (+91)7018899999 (charges applicable)'"
      ]
    },
    {
      "cell_type": "code",
      "execution_count": null,
      "metadata": {
        "id": "D9D9e86v8EzG"
      },
      "outputs": [],
      "source": []
    },
    {
      "cell_type": "markdown",
      "metadata": {
        "id": "LqwSBayF8EzG"
      },
      "source": [
        "#### Quantifiers"
      ]
    },
    {
      "cell_type": "markdown",
      "metadata": {
        "id": "1Jq4CwyM8EzI"
      },
      "source": [
        "![Re3](Re3_Quantifiers.png)"
      ]
    },
    {
      "cell_type": "markdown",
      "metadata": {
        "id": "cFkhBn7h8Ez1"
      },
      "source": [
        "#### Matching multiple groups with |"
      ]
    },
    {
      "cell_type": "code",
      "execution_count": null,
      "metadata": {
        "id": "zEcaGaRl8Ez2"
      },
      "outputs": [],
      "source": [
        "## some times 860 some time 1860"
      ]
    },
    {
      "cell_type": "code",
      "execution_count": null,
      "metadata": {
        "id": "YxYwh--38Ez3"
      },
      "outputs": [],
      "source": [
        "\n"
      ]
    },
    {
      "cell_type": "code",
      "execution_count": null,
      "metadata": {
        "id": "31qednwv8Ez8"
      },
      "outputs": [],
      "source": [
        "\n"
      ]
    },
    {
      "cell_type": "code",
      "execution_count": null,
      "metadata": {
        "id": "25-ROTga8Ez9"
      },
      "outputs": [],
      "source": [
        "# adding few more patterns like for +91-701-889-9999"
      ]
    },
    {
      "cell_type": "markdown",
      "metadata": {
        "id": "qkUffwAy8Ez-"
      },
      "source": [
        "#### `Optional matching with ?`"
      ]
    },
    {
      "cell_type": "markdown",
      "metadata": {
        "id": "a8d9Mz-48Ez_"
      },
      "source": [
        "#### The ? character indicates the group () that precedes it as an optional part of the pattern."
      ]
    },
    {
      "cell_type": "code",
      "execution_count": null,
      "metadata": {
        "id": "DYZlWS288Ez_"
      },
      "outputs": [],
      "source": [
        "text4 = '''Interested in Jio? Talk to us on 18608933333\n",
        "Tele-verification to activate data services only 1800-890-1977 '''"
      ]
    },
    {
      "cell_type": "code",
      "execution_count": null,
      "metadata": {
        "id": "sZLqfbFs8E0A"
      },
      "outputs": [],
      "source": []
    },
    {
      "cell_type": "markdown",
      "metadata": {
        "id": "28_8xdh38E0B"
      },
      "source": [
        "#### `Matching zero or more with *`"
      ]
    },
    {
      "cell_type": "code",
      "execution_count": null,
      "metadata": {
        "id": "00Vqhad-8E0C"
      },
      "outputs": [],
      "source": [
        "text4 = '''Interested in Jio? Talk to us on 18608933333 1860---893---3333\n",
        "Tele-verification to activate data services only 1800-890-1977'''"
      ]
    },
    {
      "cell_type": "code",
      "execution_count": null,
      "metadata": {
        "id": "7kczmp4m8E0C"
      },
      "outputs": [],
      "source": []
    },
    {
      "cell_type": "markdown",
      "metadata": {
        "id": "AtfF0m1g8E0D"
      },
      "source": [
        "#### `Matching one or more with +`"
      ]
    },
    {
      "cell_type": "code",
      "execution_count": null,
      "metadata": {
        "id": "f_PJnCaV8E0E"
      },
      "outputs": [],
      "source": [
        "text4 = '''Interested in Jio? Talk to us on 18608933333\n",
        "Tele-verification to activate data services only 1800-890-1977'''\n"
      ]
    },
    {
      "cell_type": "code",
      "execution_count": null,
      "metadata": {
        "id": "Z-GXC1KC8E0E"
      },
      "outputs": [],
      "source": []
    },
    {
      "cell_type": "markdown",
      "metadata": {
        "id": "Ak1TJOvv8E0F"
      },
      "source": [
        "#### `Matching specific repetitions with {}`"
      ]
    },
    {
      "cell_type": "code",
      "execution_count": null,
      "metadata": {
        "id": "K-Jvib_q8E0G"
      },
      "outputs": [],
      "source": [
        "text4 = '''Interested in Jio? Talk to us on 18608933333\n",
        "Tele-verification to activate data services only 1800-890-1977\n",
        "Enterprise Mobility Services 1800----889--9333\n",
        "Enterprise Connectivity Services & Business Solutions 1800--889--9444\n",
        "New Business Connection 1800-889-9555'''"
      ]
    },
    {
      "cell_type": "code",
      "execution_count": null,
      "metadata": {
        "id": "_XJNgl4t8E0H"
      },
      "outputs": [],
      "source": [
        "# exactly 2\n",
        "\n"
      ]
    },
    {
      "cell_type": "code",
      "execution_count": null,
      "metadata": {
        "id": "0bmue27Q8E0J"
      },
      "outputs": [],
      "source": [
        "# 2 or more\n"
      ]
    },
    {
      "cell_type": "code",
      "execution_count": null,
      "metadata": {
        "id": "IlJGM43B8E0K",
        "outputId": "3c49a7cd-1f38-4e51-d318-aad86e2db938"
      },
      "outputs": [
        {
          "name": "stdout",
          "output_type": "stream",
          "text": [
            "<re.Match object; span=(138, 155), match='1800----889--9333'>\n",
            "<re.Match object; span=(210, 225), match='1800--889--9444'>\n"
          ]
        }
      ],
      "source": []
    },
    {
      "cell_type": "code",
      "execution_count": null,
      "metadata": {
        "id": "EPtGESz48E0M"
      },
      "outputs": [],
      "source": [
        "# 2 or less\n"
      ]
    },
    {
      "cell_type": "code",
      "execution_count": null,
      "metadata": {
        "id": "C5dhcx8O8E0N"
      },
      "outputs": [],
      "source": [
        "# 2 to 5"
      ]
    },
    {
      "cell_type": "code",
      "execution_count": null,
      "metadata": {
        "id": "v7NdQE7w8E0O"
      },
      "outputs": [],
      "source": []
    },
    {
      "cell_type": "markdown",
      "metadata": {
        "id": "OGq44x7U8E0O"
      },
      "source": [
        "#### findall() method"
      ]
    },
    {
      "cell_type": "markdown",
      "metadata": {
        "id": "x9R993s38E0P"
      },
      "source": [
        "`search()` returns the match object of the first matched text <br> `findall()` returns strings for every match."
      ]
    },
    {
      "cell_type": "code",
      "execution_count": null,
      "metadata": {
        "id": "QrPLyaPS8E0Q"
      },
      "outputs": [],
      "source": [
        "# Get toll numbers"
      ]
    },
    {
      "cell_type": "code",
      "execution_count": null,
      "metadata": {
        "id": "Grwntw368E0R"
      },
      "outputs": [],
      "source": []
    },
    {
      "cell_type": "markdown",
      "metadata": {
        "id": "5HMUYvAm8E0R"
      },
      "source": [
        "Character classes\n",
        "- \\d - Any numeric digit from 0 to 9.\n",
        "- \\D - Any character that is not a numeric digit (from 0 to 9).\n",
        "- \\w - Any character which is an alphabet or numeric digit or underscore (_).\n",
        "- \\W - Any character which is not an alphabet or numeric digit or underscore (_).\n",
        "- \\s - Any space or tab space or newline.\n",
        "- \\S - Any character which is not a space or tab space or newline.\n",
        "- \\b - Word boundary. This matches the beginning and end of a word."
      ]
    },
    {
      "cell_type": "markdown",
      "metadata": {
        "id": "4e3cgu3N8E0S"
      },
      "source": [
        "![REg](Re1.png)"
      ]
    },
    {
      "cell_type": "markdown",
      "metadata": {
        "id": "uj8iaalP8E0T"
      },
      "source": [
        "![Re3](Re2.png)"
      ]
    },
    {
      "cell_type": "code",
      "execution_count": null,
      "metadata": {
        "id": "AEtobLJj8E0U"
      },
      "outputs": [],
      "source": [
        "text2 = '''JioCare\n",
        "\n",
        "Our experts are available for your assistance 24x7 (Monday - Sunday)\n",
        "\n",
        "Interested in Jio? Talk to us on 1860-893-3333\n",
        "For recharge plans, data balance, validity, recharge confirmation & offers 1991\n",
        "For Queries 199\n",
        "For Complaints 198\n",
        "For Other numbers 1800-889-9999\n",
        "Tele-verification to activate both HD voice & data services 1977\n",
        "Tele-verification to activate data services only 1800-890-1977\n",
        "For support on International Roaming\n",
        "(accessible only when roaming abroad) +917018899999 (charges applicable)\n",
        "Device Care Helpline (JioPhone, LYF Mobile & JioFi)\n",
        "\n",
        "Our experts are available for your assistance on all Days, from 9am to 9pm\n",
        "\n",
        "Helpline 1800-890-9999\n",
        "Jio Enterprise Mobility & Business Solutions\n",
        "\n",
        "Our experts are available for your assistance 24x7 (Monday - Sunday)\n",
        "\n",
        "Enterprise Mobility Services 1800-889-9333\n",
        "Enterprise Connectivity Services & Business Solutions 1800-889-9444\n",
        "New Business Connection 1800-889-9555\n",
        "Care Helpline for JioFiber Customers\n",
        "\n",
        "Our experts are available for your assistance 24X7 (Monday – Sunday)\n",
        "\n",
        "Helpline 1800-896-9999\n",
        "Online shopping\n",
        "\n",
        "For any online shopping related assistance, reach out to our experts between 9 am to 9 pm (Monday – Sunday)\n",
        "\n",
        "Helpline 1800-893-3399'''"
      ]
    },
    {
      "cell_type": "code",
      "execution_count": null,
      "metadata": {
        "id": "ieHJuw7E8E0V"
      },
      "outputs": [],
      "source": [
        "# find all numbers\n",
        "\n"
      ]
    },
    {
      "cell_type": "code",
      "execution_count": null,
      "metadata": {
        "id": "2VAx5Ckz8E0X"
      },
      "outputs": [],
      "source": []
    },
    {
      "cell_type": "code",
      "execution_count": null,
      "metadata": {
        "id": "nVMaQkaC8E0X"
      },
      "outputs": [],
      "source": [
        "# find all numbers with 1 or more digits"
      ]
    },
    {
      "cell_type": "code",
      "execution_count": null,
      "metadata": {
        "id": "PXHJ8BL38E0Z"
      },
      "outputs": [],
      "source": []
    },
    {
      "cell_type": "code",
      "execution_count": null,
      "metadata": {
        "id": "Hc4XiNJo8E0a"
      },
      "outputs": [],
      "source": [
        "# \\D+"
      ]
    },
    {
      "cell_type": "code",
      "execution_count": null,
      "metadata": {
        "id": "IEwANeN88E0b"
      },
      "outputs": [],
      "source": []
    },
    {
      "cell_type": "code",
      "execution_count": null,
      "metadata": {
        "id": "eESTa4f48E0c"
      },
      "outputs": [],
      "source": [
        "# \\S+"
      ]
    },
    {
      "cell_type": "code",
      "execution_count": null,
      "metadata": {
        "id": "rGXtRucI8E0d"
      },
      "outputs": [],
      "source": [
        "\n"
      ]
    },
    {
      "cell_type": "code",
      "execution_count": null,
      "metadata": {
        "id": "A6QpeZyH8E0e"
      },
      "outputs": [],
      "source": [
        "## Get ['(Monday - Sunday)', '(Monday - Sunday)']"
      ]
    },
    {
      "cell_type": "code",
      "execution_count": null,
      "metadata": {
        "id": "lBcG1NNU8E0f"
      },
      "outputs": [],
      "source": []
    },
    {
      "cell_type": "markdown",
      "metadata": {
        "id": "oRHw5Yb68E0f"
      },
      "source": [
        "### Matching a set of chararcters using []"
      ]
    },
    {
      "cell_type": "code",
      "execution_count": null,
      "metadata": {
        "id": "y_uVpc2f8E0g"
      },
      "outputs": [],
      "source": [
        "#### Get all character and numbers\n"
      ]
    },
    {
      "cell_type": "code",
      "execution_count": null,
      "metadata": {
        "id": "y0AbmfTU8E0h"
      },
      "outputs": [],
      "source": []
    },
    {
      "cell_type": "code",
      "execution_count": null,
      "metadata": {
        "id": "8QBgp8jJ8E0i"
      },
      "outputs": [],
      "source": [
        "#### Get all character with lenght exactly 10"
      ]
    },
    {
      "cell_type": "code",
      "execution_count": null,
      "metadata": {
        "id": "-KYjjRbx8E0j"
      },
      "outputs": [],
      "source": []
    },
    {
      "cell_type": "code",
      "execution_count": null,
      "metadata": {
        "id": "8BA0Qgce8E0j"
      },
      "outputs": [],
      "source": [
        "\n"
      ]
    },
    {
      "cell_type": "code",
      "execution_count": null,
      "metadata": {
        "id": "Hn-8ewdP8E0k"
      },
      "outputs": [],
      "source": []
    },
    {
      "cell_type": "markdown",
      "metadata": {
        "id": "hyckF1nD8E0k"
      },
      "source": [
        "#### Wildcard (`.`)"
      ]
    },
    {
      "cell_type": "markdown",
      "metadata": {
        "id": "xuvzVVA58E0m"
      },
      "source": [
        "#### ['dat', 'mat', 'cat', 'vat', 'dat', 'cat', 'vat', 'dat', 'nat', 'lat']"
      ]
    },
    {
      "cell_type": "code",
      "execution_count": null,
      "metadata": {
        "id": "g0UAUceO8E0n"
      },
      "outputs": [],
      "source": []
    },
    {
      "cell_type": "markdown",
      "metadata": {
        "id": "4cBtQhe38E0o"
      },
      "source": [
        "#### pattern\n",
        "[' dat',\n",
        " 'rmat',\n",
        " 'icat',\n",
        " 'ivat',\n",
        " ' dat',\n",
        " 'icat',\n",
        " 'ivat',\n",
        " ' dat',\n",
        " 'rnat',\n",
        " 'elat']"
      ]
    },
    {
      "cell_type": "code",
      "execution_count": null,
      "metadata": {
        "id": "PjUWV_-y8E0q"
      },
      "outputs": [],
      "source": []
    },
    {
      "cell_type": "markdown",
      "metadata": {
        "id": "5U9wBNhR8E0x"
      },
      "source": [
        "#### pattern\n",
        "[' Jio? ',\n",
        " 'ation ',\n",
        " 'ation ',\n",
        " 'ation ',\n",
        " 'ationa',\n",
        " '(JioPh',\n",
        " ' JioFi',\n",
        " 'utions',\n",
        " 'utions',\n",
        " 'ction\\t',\n",
        " ' JioFi']\n"
      ]
    },
    {
      "cell_type": "markdown",
      "metadata": {
        "id": "E-XERW0e8E0y"
      },
      "source": [
        "![Re](Re1.png)"
      ]
    },
    {
      "cell_type": "markdown",
      "metadata": {
        "id": "MZZ2CL0S8E0y"
      },
      "source": [
        "#### sub()"
      ]
    },
    {
      "cell_type": "markdown",
      "metadata": {
        "id": "sH5rL7Ca8E0y"
      },
      "source": [
        "#### Substitute all numbers with '----'"
      ]
    },
    {
      "cell_type": "code",
      "execution_count": null,
      "metadata": {
        "id": "7nweibQW8E0y"
      },
      "outputs": [],
      "source": []
    },
    {
      "cell_type": "markdown",
      "metadata": {
        "id": "4IEoTcHQ8E0z"
      },
      "source": [
        "#### split()"
      ]
    },
    {
      "cell_type": "code",
      "execution_count": null,
      "metadata": {
        "id": "8uGm0Lqh8E0z"
      },
      "outputs": [],
      "source": []
    },
    {
      "cell_type": "markdown",
      "metadata": {
        "id": "pCuzHJlD8E00"
      },
      "source": [
        "#### ^ (Beginning) and $ (End)"
      ]
    },
    {
      "cell_type": "code",
      "execution_count": null,
      "metadata": {
        "id": "ageDambQ8E00"
      },
      "outputs": [],
      "source": []
    },
    {
      "cell_type": "code",
      "execution_count": null,
      "metadata": {
        "id": "O5qA5Wpy8E00"
      },
      "outputs": [],
      "source": [
        "#### Exercise\n",
        "urls = '''https://www.google.com\n",
        "http://coreyms.com\n",
        "https://youtube.com\n",
        "https://www.nasa.gov'''"
      ]
    },
    {
      "cell_type": "code",
      "execution_count": null,
      "metadata": {
        "id": "7HhGK5Ne8E01"
      },
      "outputs": [],
      "source": []
    },
    {
      "cell_type": "code",
      "execution_count": null,
      "metadata": {
        "id": "MconiYer8E01"
      },
      "outputs": [],
      "source": []
    },
    {
      "cell_type": "code",
      "execution_count": null,
      "metadata": {
        "id": "CpzKwZzO8E02"
      },
      "outputs": [],
      "source": []
    },
    {
      "cell_type": "code",
      "execution_count": null,
      "metadata": {
        "id": "MY9epieX8E02"
      },
      "outputs": [],
      "source": []
    },
    {
      "cell_type": "code",
      "execution_count": null,
      "metadata": {
        "id": "Z4dZ17hm8E03"
      },
      "outputs": [],
      "source": []
    }
  ],
  "metadata": {
    "kernelspec": {
      "display_name": "Python 3",
      "language": "python",
      "name": "python3"
    },
    "language_info": {
      "codemirror_mode": {
        "name": "ipython",
        "version": 3
      },
      "file_extension": ".py",
      "mimetype": "text/x-python",
      "name": "python",
      "nbconvert_exporter": "python",
      "pygments_lexer": "ipython3",
      "version": "3.7.6"
    },
    "colab": {
      "provenance": [],
      "include_colab_link": true
    }
  },
  "nbformat": 4,
  "nbformat_minor": 0
}