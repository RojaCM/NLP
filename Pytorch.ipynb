{
  "nbformat": 4,
  "nbformat_minor": 0,
  "metadata": {
    "colab": {
      "provenance": [],
      "authorship_tag": "ABX9TyOV6Zol4lqBqJcunmFcwly4",
      "include_colab_link": true
    },
    "kernelspec": {
      "name": "python3",
      "display_name": "Python 3"
    },
    "language_info": {
      "name": "python"
    }
  },
  "cells": [
    {
      "cell_type": "markdown",
      "metadata": {
        "id": "view-in-github",
        "colab_type": "text"
      },
      "source": [
        "<a href=\"https://colab.research.google.com/github/RojaCM/NLP/blob/main/Pytorch.ipynb\" target=\"_parent\"><img src=\"https://colab.research.google.com/assets/colab-badge.svg\" alt=\"Open In Colab\"/></a>"
      ]
    },
    {
      "cell_type": "code",
      "execution_count": 1,
      "metadata": {
        "id": "kpf1WZb6QWRP"
      },
      "outputs": [],
      "source": [
        "import numpy as np"
      ]
    },
    {
      "cell_type": "code",
      "source": [
        "import torch"
      ],
      "metadata": {
        "id": "cUnoJaWWQamK"
      },
      "execution_count": 2,
      "outputs": []
    },
    {
      "cell_type": "code",
      "source": [
        "a=np.array(1)"
      ],
      "metadata": {
        "id": "Lus3JNX9Qfc4"
      },
      "execution_count": 3,
      "outputs": []
    },
    {
      "cell_type": "code",
      "source": [
        "b=torch.tensor(1)"
      ],
      "metadata": {
        "id": "cy-duPtEQm6d"
      },
      "execution_count": 4,
      "outputs": []
    },
    {
      "cell_type": "code",
      "source": [
        "type(a)"
      ],
      "metadata": {
        "colab": {
          "base_uri": "https://localhost:8080/"
        },
        "id": "nfUqOVHDQofQ",
        "outputId": "3c0e8888-d6e2-4d69-b53b-0e05447b7133"
      },
      "execution_count": 6,
      "outputs": [
        {
          "output_type": "execute_result",
          "data": {
            "text/plain": [
              "numpy.ndarray"
            ]
          },
          "metadata": {},
          "execution_count": 6
        }
      ]
    },
    {
      "cell_type": "code",
      "source": [
        "type(b)"
      ],
      "metadata": {
        "colab": {
          "base_uri": "https://localhost:8080/"
        },
        "id": "z2tpWRRdQpaL",
        "outputId": "aace5729-760d-4846-e9fc-cffce2878181"
      },
      "execution_count": 7,
      "outputs": [
        {
          "output_type": "execute_result",
          "data": {
            "text/plain": [
              "torch.Tensor"
            ]
          },
          "metadata": {},
          "execution_count": 7
        }
      ]
    },
    {
      "cell_type": "code",
      "source": [
        "a = np.array(2)\n",
        "b = np.array(1)\n",
        "print(a,b)"
      ],
      "metadata": {
        "colab": {
          "base_uri": "https://localhost:8080/"
        },
        "id": "9QbzfD4RQscp",
        "outputId": "bc823a3c-ca9f-4cae-9995-f11349e26b73"
      },
      "execution_count": 8,
      "outputs": [
        {
          "output_type": "stream",
          "name": "stdout",
          "text": [
            "2 1\n"
          ]
        }
      ]
    },
    {
      "cell_type": "code",
      "source": [
        "a+b"
      ],
      "metadata": {
        "colab": {
          "base_uri": "https://localhost:8080/"
        },
        "id": "R9QUQyshQs4D",
        "outputId": "632c0749-b88e-474e-a569-bebd176f4684"
      },
      "execution_count": 9,
      "outputs": [
        {
          "output_type": "execute_result",
          "data": {
            "text/plain": [
              "3"
            ]
          },
          "metadata": {},
          "execution_count": 9
        }
      ]
    },
    {
      "cell_type": "code",
      "source": [
        "a*b"
      ],
      "metadata": {
        "colab": {
          "base_uri": "https://localhost:8080/"
        },
        "id": "YgTvBNGHQs7a",
        "outputId": "394145eb-b6ec-4872-da80-e9e7402d42c2"
      },
      "execution_count": 10,
      "outputs": [
        {
          "output_type": "execute_result",
          "data": {
            "text/plain": [
              "2"
            ]
          },
          "metadata": {},
          "execution_count": 10
        }
      ]
    },
    {
      "cell_type": "code",
      "source": [
        "a/b"
      ],
      "metadata": {
        "colab": {
          "base_uri": "https://localhost:8080/"
        },
        "id": "--69A1dXQs-a",
        "outputId": "f090f448-838a-47ee-f817-d4d9b77e7f24"
      },
      "execution_count": 11,
      "outputs": [
        {
          "output_type": "execute_result",
          "data": {
            "text/plain": [
              "2.0"
            ]
          },
          "metadata": {},
          "execution_count": 11
        }
      ]
    },
    {
      "cell_type": "code",
      "source": [
        "a//b"
      ],
      "metadata": {
        "colab": {
          "base_uri": "https://localhost:8080/"
        },
        "id": "GJB7baZIQtBZ",
        "outputId": "ce81487d-b6ad-47f8-9808-025055dbdce9"
      },
      "execution_count": 12,
      "outputs": [
        {
          "output_type": "execute_result",
          "data": {
            "text/plain": [
              "2"
            ]
          },
          "metadata": {},
          "execution_count": 12
        }
      ]
    },
    {
      "cell_type": "code",
      "source": [
        "a-b"
      ],
      "metadata": {
        "colab": {
          "base_uri": "https://localhost:8080/"
        },
        "id": "zlCNXkLCQtER",
        "outputId": "028d2efa-4a2b-49f8-9f8b-bfb5c9782a9e"
      },
      "execution_count": 13,
      "outputs": [
        {
          "output_type": "execute_result",
          "data": {
            "text/plain": [
              "1"
            ]
          },
          "metadata": {},
          "execution_count": 13
        }
      ]
    },
    {
      "cell_type": "code",
      "source": [
        "c=torch.tensor(1)"
      ],
      "metadata": {
        "id": "s6hUOtsIUyBt"
      },
      "execution_count": 14,
      "outputs": []
    },
    {
      "cell_type": "code",
      "source": [
        "d=torch.tensor(3)"
      ],
      "metadata": {
        "id": "PftghBPsU4UH"
      },
      "execution_count": 15,
      "outputs": []
    },
    {
      "cell_type": "code",
      "source": [
        "c+d"
      ],
      "metadata": {
        "colab": {
          "base_uri": "https://localhost:8080/"
        },
        "id": "pcBA5vBGU5lX",
        "outputId": "016eaa41-ed44-4db6-c686-9b877932ed6e"
      },
      "execution_count": 17,
      "outputs": [
        {
          "output_type": "execute_result",
          "data": {
            "text/plain": [
              "tensor(4)"
            ]
          },
          "metadata": {},
          "execution_count": 17
        }
      ]
    },
    {
      "cell_type": "code",
      "source": [
        "c-d"
      ],
      "metadata": {
        "colab": {
          "base_uri": "https://localhost:8080/"
        },
        "id": "8CHclvqGU6iR",
        "outputId": "9ca706c3-f974-45d4-a92f-e3aa6ee9699d"
      },
      "execution_count": 18,
      "outputs": [
        {
          "output_type": "execute_result",
          "data": {
            "text/plain": [
              "tensor(-2)"
            ]
          },
          "metadata": {},
          "execution_count": 18
        }
      ]
    },
    {
      "cell_type": "code",
      "source": [
        "c/d"
      ],
      "metadata": {
        "colab": {
          "base_uri": "https://localhost:8080/"
        },
        "id": "524GkcjOU8wj",
        "outputId": "ab3d2937-32b9-4195-a6d4-e5ef3b8e3f99"
      },
      "execution_count": 19,
      "outputs": [
        {
          "output_type": "execute_result",
          "data": {
            "text/plain": [
              "tensor(0.3333)"
            ]
          },
          "metadata": {},
          "execution_count": 19
        }
      ]
    },
    {
      "cell_type": "code",
      "source": [
        "c*d"
      ],
      "metadata": {
        "colab": {
          "base_uri": "https://localhost:8080/"
        },
        "id": "2A8ayxIVU9PN",
        "outputId": "087264b3-5bc2-4fbe-ba20-a4c8dd408581"
      },
      "execution_count": 20,
      "outputs": [
        {
          "output_type": "execute_result",
          "data": {
            "text/plain": [
              "tensor(3)"
            ]
          },
          "metadata": {},
          "execution_count": 20
        }
      ]
    },
    {
      "cell_type": "code",
      "source": [
        "a=np.zeros((3,3))"
      ],
      "metadata": {
        "id": "LyoSFzOZU-M3"
      },
      "execution_count": 21,
      "outputs": []
    },
    {
      "cell_type": "code",
      "source": [
        "a"
      ],
      "metadata": {
        "colab": {
          "base_uri": "https://localhost:8080/"
        },
        "id": "PBdfUb19U-m9",
        "outputId": "35bda437-0ee5-48cd-a129-be5a9effdf89"
      },
      "execution_count": 22,
      "outputs": [
        {
          "output_type": "execute_result",
          "data": {
            "text/plain": [
              "array([[0., 0., 0.],\n",
              "       [0., 0., 0.],\n",
              "       [0., 0., 0.]])"
            ]
          },
          "metadata": {},
          "execution_count": 22
        }
      ]
    },
    {
      "cell_type": "code",
      "source": [
        "e=torch.zeros((3,3))"
      ],
      "metadata": {
        "id": "WLUZKwQCU-p5"
      },
      "execution_count": 33,
      "outputs": []
    },
    {
      "cell_type": "code",
      "source": [
        "e"
      ],
      "metadata": {
        "colab": {
          "base_uri": "https://localhost:8080/"
        },
        "id": "cuClV_MZjIUT",
        "outputId": "f40ab71a-c828-4a5e-940d-44fc22fed814"
      },
      "execution_count": 34,
      "outputs": [
        {
          "output_type": "execute_result",
          "data": {
            "text/plain": [
              "tensor([[0., 0., 0.],\n",
              "        [0., 0., 0.],\n",
              "        [0., 0., 0.]])"
            ]
          },
          "metadata": {},
          "execution_count": 34
        }
      ]
    },
    {
      "cell_type": "code",
      "source": [
        "f=torch.zeros((3,3))"
      ],
      "metadata": {
        "id": "EdyR0hzQjIb4"
      },
      "execution_count": 35,
      "outputs": []
    },
    {
      "cell_type": "code",
      "source": [
        "e.shape"
      ],
      "metadata": {
        "colab": {
          "base_uri": "https://localhost:8080/"
        },
        "id": "z0fiuuiBjIg7",
        "outputId": "ac4f6712-a4f0-4312-d8ee-7fcb0ecae3c2"
      },
      "execution_count": 36,
      "outputs": [
        {
          "output_type": "execute_result",
          "data": {
            "text/plain": [
              "torch.Size([3, 3])"
            ]
          },
          "metadata": {},
          "execution_count": 36
        }
      ]
    },
    {
      "cell_type": "code",
      "source": [
        "f.shape"
      ],
      "metadata": {
        "id": "hQr6TsW8kZC0",
        "outputId": "267c0d45-82de-45ad-dc04-479e6ddfd502",
        "colab": {
          "base_uri": "https://localhost:8080/"
        }
      },
      "execution_count": 37,
      "outputs": [
        {
          "output_type": "execute_result",
          "data": {
            "text/plain": [
              "torch.Size([3, 3])"
            ]
          },
          "metadata": {},
          "execution_count": 37
        }
      ]
    },
    {
      "cell_type": "code",
      "source": [
        "e*f"
      ],
      "metadata": {
        "id": "QeLPbSGAkZHX",
        "outputId": "10336965-a222-4cf3-afee-dff8be233c3b",
        "colab": {
          "base_uri": "https://localhost:8080/"
        }
      },
      "execution_count": 39,
      "outputs": [
        {
          "output_type": "execute_result",
          "data": {
            "text/plain": [
              "tensor([[0., 0., 0.],\n",
              "        [0., 0., 0.],\n",
              "        [0., 0., 0.]])"
            ]
          },
          "metadata": {},
          "execution_count": 39
        }
      ]
    },
    {
      "cell_type": "code",
      "source": [
        "np.random.seed(42)\n",
        "a1=np.random.randint(1,100,[3,3])"
      ],
      "metadata": {
        "id": "OM4jNabKU-tC"
      },
      "execution_count": 53,
      "outputs": []
    },
    {
      "cell_type": "code",
      "source": [
        "a1"
      ],
      "metadata": {
        "colab": {
          "base_uri": "https://localhost:8080/"
        },
        "id": "4YsD8Ep8U-vh",
        "outputId": "24808f78-c8ba-4f9c-ded0-cfb296c0e3b1"
      },
      "execution_count": 54,
      "outputs": [
        {
          "output_type": "execute_result",
          "data": {
            "text/plain": [
              "array([[52, 93, 15],\n",
              "       [72, 61, 21],\n",
              "       [83, 87, 75]])"
            ]
          },
          "metadata": {},
          "execution_count": 54
        }
      ]
    },
    {
      "cell_type": "code",
      "source": [
        "b=np.random.randn(3,3)"
      ],
      "metadata": {
        "id": "2K_x2N0zlIb-"
      },
      "execution_count": 55,
      "outputs": []
    },
    {
      "cell_type": "code",
      "source": [
        "b"
      ],
      "metadata": {
        "id": "n0m9L-y_l1YS",
        "outputId": "30c8b026-68e9-4250-8950-d0ffddcd9b88",
        "colab": {
          "base_uri": "https://localhost:8080/"
        }
      },
      "execution_count": 56,
      "outputs": [
        {
          "output_type": "execute_result",
          "data": {
            "text/plain": [
              "array([[-2.01096289, -0.49280342,  0.39257975],\n",
              "       [-0.92918467,  0.07983181, -0.1595165 ],\n",
              "       [ 0.02222183, -0.42779291, -0.53181741]])"
            ]
          },
          "metadata": {},
          "execution_count": 56
        }
      ]
    },
    {
      "cell_type": "code",
      "source": [
        "torch.manual_seed(32)\n",
        "a2=torch.randn(3,3)"
      ],
      "metadata": {
        "id": "sI97ghfJl1fb"
      },
      "execution_count": 57,
      "outputs": []
    },
    {
      "cell_type": "code",
      "source": [
        "a2"
      ],
      "metadata": {
        "id": "9rj6NEc7mOOI",
        "outputId": "cc01373e-7a70-40f7-ed31-abd273e69d77",
        "colab": {
          "base_uri": "https://localhost:8080/"
        }
      },
      "execution_count": 58,
      "outputs": [
        {
          "output_type": "execute_result",
          "data": {
            "text/plain": [
              "tensor([[ 0.8651,  0.0284,  0.5256],\n",
              "        [-0.3633, -0.4169, -1.2650],\n",
              "        [ 1.2367,  0.1980, -1.5811]])"
            ]
          },
          "metadata": {},
          "execution_count": 58
        }
      ]
    },
    {
      "cell_type": "code",
      "source": [
        "np.random.seed(42)\n",
        "aa=np.random.randn(3,3)\n",
        "ab=np.random.randn(3,3)"
      ],
      "metadata": {
        "id": "a_JrVeGhmOS6"
      },
      "execution_count": 61,
      "outputs": []
    },
    {
      "cell_type": "code",
      "source": [
        "aa+ab"
      ],
      "metadata": {
        "id": "RDHx7dzvmOWi",
        "outputId": "25f6b6b0-4775-42e1-cc2f-5f01ae900e53",
        "colab": {
          "base_uri": "https://localhost:8080/"
        }
      },
      "execution_count": 62,
      "outputs": [
        {
          "output_type": "execute_result",
          "data": {
            "text/plain": [
              "array([[ 1.0392742 , -0.60168199,  0.18195878],\n",
              "       [ 1.76499213, -2.14743362, -1.95905479],\n",
              "       [ 1.01692529, -0.24539639, -0.15522705]])"
            ]
          },
          "metadata": {},
          "execution_count": 62
        }
      ]
    },
    {
      "cell_type": "code",
      "source": [
        "aa-ab"
      ],
      "metadata": {
        "id": "prBspz7RmObA",
        "outputId": "15f9ccb4-5b68-4459-e4ed-ef3b20f868a2",
        "colab": {
          "base_uri": "https://localhost:8080/"
        }
      },
      "execution_count": 63,
      "outputs": [
        {
          "output_type": "execute_result",
          "data": {
            "text/plain": [
              "array([[-0.04584589,  0.32515339,  1.11341829],\n",
              "       [ 1.28106758,  1.67912687,  1.49078088],\n",
              "       [ 2.14150034,  1.78026585, -0.78372172]])"
            ]
          },
          "metadata": {},
          "execution_count": 63
        }
      ]
    },
    {
      "cell_type": "code",
      "source": [
        "np.add(aa,ab)"
      ],
      "metadata": {
        "id": "NmnGv2JNn21l",
        "outputId": "e746e10c-763d-4124-be4c-aa637cce6a9f",
        "colab": {
          "base_uri": "https://localhost:8080/"
        }
      },
      "execution_count": 64,
      "outputs": [
        {
          "output_type": "execute_result",
          "data": {
            "text/plain": [
              "array([[ 1.0392742 , -0.60168199,  0.18195878],\n",
              "       [ 1.76499213, -2.14743362, -1.95905479],\n",
              "       [ 1.01692529, -0.24539639, -0.15522705]])"
            ]
          },
          "metadata": {},
          "execution_count": 64
        }
      ]
    },
    {
      "cell_type": "code",
      "source": [
        "aa*ab"
      ],
      "metadata": {
        "id": "wv-VE8ofn26L",
        "outputId": "601b32aa-ee40-441a-c526-5e997b2765ea",
        "colab": {
          "base_uri": "https://localhost:8080/"
        }
      },
      "execution_count": 65,
      "outputs": [
        {
          "output_type": "execute_result",
          "data": {
            "text/plain": [
              "array([[ 0.26949725,  0.06407412, -0.30164782],\n",
              "       [ 0.36851576,  0.44800103,  0.40386701],\n",
              "       [-0.88797167, -0.77728178, -0.14753107]])"
            ]
          },
          "metadata": {},
          "execution_count": 65
        }
      ]
    },
    {
      "cell_type": "code",
      "source": [
        "np.dot(aa,ab)"
      ],
      "metadata": {
        "id": "PXRmxyBVn6cH",
        "outputId": "a9e70d48-edd1-4e4c-ee0a-010022664b4b",
        "colab": {
          "base_uri": "https://localhost:8080/"
        }
      },
      "execution_count": 66,
      "outputs": [
        {
          "output_type": "execute_result",
          "data": {
            "text/plain": [
              "array([[-0.12814468, -0.62164688,  0.21069439],\n",
              "       [ 0.90133115, -0.02065676, -0.3790019 ],\n",
              "       [ 1.30648762, -1.7246546 , -2.20677932]])"
            ]
          },
          "metadata": {},
          "execution_count": 66
        }
      ]
    },
    {
      "cell_type": "code",
      "source": [
        "aa/ab"
      ],
      "metadata": {
        "id": "hCBNB0_ln6i0",
        "outputId": "52e1b23c-aa50-45cf-91e0-dfe94e21d07e",
        "colab": {
          "base_uri": "https://localhost:8080/"
        }
      },
      "execution_count": 67,
      "outputs": [
        {
          "output_type": "execute_result",
          "data": {
            "text/plain": [
              "array([[ 0.9155008 ,  0.29835784, -1.39069607],\n",
              "       [ 6.29449313,  0.12238321,  0.13573803],\n",
              "       [-2.80855031, -0.75771243, -1.49396459]])"
            ]
          },
          "metadata": {},
          "execution_count": 67
        }
      ]
    },
    {
      "cell_type": "code",
      "source": [
        "np.divide(aa,ab)"
      ],
      "metadata": {
        "id": "n9vVUDzzn6oP",
        "outputId": "91d0f448-26bc-4383-8084-336c9e56e93a",
        "colab": {
          "base_uri": "https://localhost:8080/"
        }
      },
      "execution_count": 68,
      "outputs": [
        {
          "output_type": "execute_result",
          "data": {
            "text/plain": [
              "array([[ 0.9155008 ,  0.29835784, -1.39069607],\n",
              "       [ 6.29449313,  0.12238321,  0.13573803],\n",
              "       [-2.80855031, -0.75771243, -1.49396459]])"
            ]
          },
          "metadata": {},
          "execution_count": 68
        }
      ]
    },
    {
      "cell_type": "code",
      "source": [
        "aa"
      ],
      "metadata": {
        "id": "bIxZHRJFn-S8",
        "outputId": "400f5ad9-7358-42c5-d0ea-d997c2bf6a80",
        "colab": {
          "base_uri": "https://localhost:8080/"
        }
      },
      "execution_count": 69,
      "outputs": [
        {
          "output_type": "execute_result",
          "data": {
            "text/plain": [
              "array([[ 0.49671415, -0.1382643 ,  0.64768854],\n",
              "       [ 1.52302986, -0.23415337, -0.23413696],\n",
              "       [ 1.57921282,  0.76743473, -0.46947439]])"
            ]
          },
          "metadata": {},
          "execution_count": 69
        }
      ]
    },
    {
      "cell_type": "code",
      "source": [
        "np.transpose(aa)"
      ],
      "metadata": {
        "id": "8oQhpyfKoTBZ",
        "outputId": "8547e4eb-08e2-4398-c279-1d29ecf00cda",
        "colab": {
          "base_uri": "https://localhost:8080/"
        }
      },
      "execution_count": 70,
      "outputs": [
        {
          "output_type": "execute_result",
          "data": {
            "text/plain": [
              "array([[ 0.49671415,  1.52302986,  1.57921282],\n",
              "       [-0.1382643 , -0.23415337,  0.76743473],\n",
              "       [ 0.64768854, -0.23413696, -0.46947439]])"
            ]
          },
          "metadata": {},
          "execution_count": 70
        }
      ]
    },
    {
      "cell_type": "code",
      "source": [
        "torch.manual_seed(42)\n",
        "a3=torch.randn(3,3)\n",
        "a4=torch.randn(3,3)"
      ],
      "metadata": {
        "id": "RhQpeq49n-Ye"
      },
      "execution_count": 71,
      "outputs": []
    },
    {
      "cell_type": "code",
      "source": [
        "torch.add(a3,a4)"
      ],
      "metadata": {
        "id": "iABrGOWnn2-I",
        "outputId": "48b99cfb-a9e8-4432-ab1b-46cbf35810f3",
        "colab": {
          "base_uri": "https://localhost:8080/"
        }
      },
      "execution_count": 72,
      "outputs": [
        {
          "output_type": "execute_result",
          "data": {
            "text/plain": [
              "tensor([[ 0.6040,  0.6637,  1.0438],\n",
              "        [ 1.3406, -2.8127, -1.1753],\n",
              "        [ 3.1662,  0.6841,  1.2788]])"
            ]
          },
          "metadata": {},
          "execution_count": 72
        }
      ]
    },
    {
      "cell_type": "code",
      "source": [
        "torch.divide(a3,a4)"
      ],
      "metadata": {
        "id": "fPiQXXdVpWdR",
        "outputId": "82f820e0-b763-4355-978f-9e2f5e35e8c7",
        "colab": {
          "base_uri": "https://localhost:8080/"
        }
      },
      "execution_count": 73,
      "outputs": [
        {
          "output_type": "execute_result",
          "data": {
            "text/plain": [
              "tensor([[ 1.2594,  0.2408,  0.2897],\n",
              "        [ 0.2075,  0.6645,  0.1884],\n",
              "        [ 2.3051, -0.4826,  0.5649]])"
            ]
          },
          "metadata": {},
          "execution_count": 73
        }
      ]
    },
    {
      "cell_type": "code",
      "source": [
        "torch.div(a3,a4)"
      ],
      "metadata": {
        "id": "yXDiPG9dpWiT",
        "outputId": "9251e183-1026-4ed7-88f1-829b1a9e4920",
        "colab": {
          "base_uri": "https://localhost:8080/"
        }
      },
      "execution_count": 74,
      "outputs": [
        {
          "output_type": "execute_result",
          "data": {
            "text/plain": [
              "tensor([[ 1.2594,  0.2408,  0.2897],\n",
              "        [ 0.2075,  0.6645,  0.1884],\n",
              "        [ 2.3051, -0.4826,  0.5649]])"
            ]
          },
          "metadata": {},
          "execution_count": 74
        }
      ]
    },
    {
      "cell_type": "code",
      "source": [
        "torch.mm(a3,a4)"
      ],
      "metadata": {
        "id": "i0Z38Nx4pw1m",
        "outputId": "5c01e1ed-9294-4bfa-ff43-758e31f7cedf",
        "colab": {
          "base_uri": "https://localhost:8080/"
        }
      },
      "execution_count": 75,
      "outputs": [
        {
          "output_type": "execute_result",
          "data": {
            "text/plain": [
              "tensor([[ 0.4576,  0.2724,  0.3367],\n",
              "        [-1.3636,  1.7743,  1.1446],\n",
              "        [ 0.3243,  2.8696,  2.7954]])"
            ]
          },
          "metadata": {},
          "execution_count": 75
        }
      ]
    },
    {
      "cell_type": "code",
      "source": [
        "a5=torch.randn(2,2)"
      ],
      "metadata": {
        "id": "bhhJl3hxpw7k"
      },
      "execution_count": 76,
      "outputs": []
    },
    {
      "cell_type": "code",
      "source": [
        "a5"
      ],
      "metadata": {
        "id": "-xVv7ZKwp3L_",
        "outputId": "6623bb91-5ada-4935-ce74-e1cd06807bb4",
        "colab": {
          "base_uri": "https://localhost:8080/"
        }
      },
      "execution_count": 77,
      "outputs": [
        {
          "output_type": "execute_result",
          "data": {
            "text/plain": [
              "tensor([[-0.7658, -0.7506],\n",
              "        [ 1.3525,  0.6863]])"
            ]
          },
          "metadata": {},
          "execution_count": 77
        }
      ]
    },
    {
      "cell_type": "code",
      "source": [
        "a6=torch.tensor([[1,2],[3,4]])"
      ],
      "metadata": {
        "id": "HBdtOTMTp3RE"
      },
      "execution_count": 78,
      "outputs": []
    },
    {
      "cell_type": "code",
      "source": [
        "a6"
      ],
      "metadata": {
        "id": "RVTQBVl2p3Vk",
        "outputId": "beb5c450-ad0b-4560-8797-a3aca698958d",
        "colab": {
          "base_uri": "https://localhost:8080/"
        }
      },
      "execution_count": 79,
      "outputs": [
        {
          "output_type": "execute_result",
          "data": {
            "text/plain": [
              "tensor([[1, 2],\n",
              "        [3, 4]])"
            ]
          },
          "metadata": {},
          "execution_count": 79
        }
      ]
    },
    {
      "cell_type": "code",
      "source": [
        "torch.cat((a5,a6))"
      ],
      "metadata": {
        "id": "tc326Xf2p7V3",
        "outputId": "ade06e3e-14a9-49c3-a739-c613eaedfbee",
        "colab": {
          "base_uri": "https://localhost:8080/"
        }
      },
      "execution_count": 82,
      "outputs": [
        {
          "output_type": "execute_result",
          "data": {
            "text/plain": [
              "tensor([[-0.7658, -0.7506],\n",
              "        [ 1.3525,  0.6863],\n",
              "        [ 1.0000,  2.0000],\n",
              "        [ 3.0000,  4.0000]])"
            ]
          },
          "metadata": {},
          "execution_count": 82
        }
      ]
    },
    {
      "cell_type": "code",
      "source": [
        "torch.cat((a5,a6),dim=1)"
      ],
      "metadata": {
        "id": "K7lntCl1rO5Y",
        "outputId": "ab75bd31-6527-4065-c7e8-a05e966c61ae",
        "colab": {
          "base_uri": "https://localhost:8080/"
        }
      },
      "execution_count": 83,
      "outputs": [
        {
          "output_type": "execute_result",
          "data": {
            "text/plain": [
              "tensor([[-0.7658, -0.7506,  1.0000,  2.0000],\n",
              "        [ 1.3525,  0.6863,  3.0000,  4.0000]])"
            ]
          },
          "metadata": {},
          "execution_count": 83
        }
      ]
    },
    {
      "cell_type": "code",
      "source": [
        "torch.manual_seed(42)\n",
        "a7=torch.randn(2,4)"
      ],
      "metadata": {
        "id": "NRECRCrtrctZ"
      },
      "execution_count": 84,
      "outputs": []
    },
    {
      "cell_type": "code",
      "source": [
        "a7.shape"
      ],
      "metadata": {
        "id": "gwlmMRzbrc0i",
        "outputId": "8da888f0-309b-4cf1-de4e-71e260c9d735",
        "colab": {
          "base_uri": "https://localhost:8080/"
        }
      },
      "execution_count": 85,
      "outputs": [
        {
          "output_type": "execute_result",
          "data": {
            "text/plain": [
              "torch.Size([2, 4])"
            ]
          },
          "metadata": {},
          "execution_count": 85
        }
      ]
    },
    {
      "cell_type": "code",
      "source": [
        "a7.reshape(8,-1)"
      ],
      "metadata": {
        "id": "ev76tDKGrxQo",
        "outputId": "2e21f68b-03cd-4e1a-bf1e-040a849589f7",
        "colab": {
          "base_uri": "https://localhost:8080/"
        }
      },
      "execution_count": 86,
      "outputs": [
        {
          "output_type": "execute_result",
          "data": {
            "text/plain": [
              "tensor([[ 0.3367],\n",
              "        [ 0.1288],\n",
              "        [ 0.2345],\n",
              "        [ 0.2303],\n",
              "        [-1.1229],\n",
              "        [-0.1863],\n",
              "        [ 2.2082],\n",
              "        [-0.6380]])"
            ]
          },
          "metadata": {},
          "execution_count": 86
        }
      ]
    },
    {
      "cell_type": "code",
      "source": [
        "a7"
      ],
      "metadata": {
        "id": "xdfHZLMxrxWv",
        "outputId": "d1d89014-b5b9-4421-9ff9-75b419fe46af",
        "colab": {
          "base_uri": "https://localhost:8080/"
        }
      },
      "execution_count": 87,
      "outputs": [
        {
          "output_type": "execute_result",
          "data": {
            "text/plain": [
              "tensor([[ 0.3367,  0.1288,  0.2345,  0.2303],\n",
              "        [-1.1229, -0.1863,  2.2082, -0.6380]])"
            ]
          },
          "metadata": {},
          "execution_count": 87
        }
      ]
    },
    {
      "cell_type": "code",
      "source": [
        "a7.reshape(1,-1)"
      ],
      "metadata": {
        "id": "6sFpwwi4rxbK",
        "outputId": "0e086860-80d5-4e08-876f-c5a66438cd12",
        "colab": {
          "base_uri": "https://localhost:8080/"
        }
      },
      "execution_count": 88,
      "outputs": [
        {
          "output_type": "execute_result",
          "data": {
            "text/plain": [
              "tensor([[ 0.3367,  0.1288,  0.2345,  0.2303, -1.1229, -0.1863,  2.2082, -0.6380]])"
            ]
          },
          "metadata": {},
          "execution_count": 88
        }
      ]
    },
    {
      "cell_type": "code",
      "source": [
        "a8=np.random.randn(10)"
      ],
      "metadata": {
        "id": "nmZMcGt-rxgA"
      },
      "execution_count": 89,
      "outputs": []
    },
    {
      "cell_type": "code",
      "source": [
        "a8"
      ],
      "metadata": {
        "id": "qF2rrCx8sIik",
        "outputId": "b43fc64e-50ae-4bc0-c17f-95300794ba88",
        "colab": {
          "base_uri": "https://localhost:8080/"
        }
      },
      "execution_count": 90,
      "outputs": [
        {
          "output_type": "execute_result",
          "data": {
            "text/plain": [
              "array([-0.90802408, -1.4123037 ,  1.46564877, -0.2257763 ,  0.0675282 ,\n",
              "       -1.42474819, -0.54438272,  0.11092259, -1.15099358,  0.37569802])"
            ]
          },
          "metadata": {},
          "execution_count": 90
        }
      ]
    },
    {
      "cell_type": "code",
      "source": [
        "a9=torch.from_numpy(a8)"
      ],
      "metadata": {
        "id": "kYtodIfZsIo6"
      },
      "execution_count": 91,
      "outputs": []
    },
    {
      "cell_type": "code",
      "source": [
        "a9"
      ],
      "metadata": {
        "id": "vFGiHfYvsIuV",
        "outputId": "898f24ab-6d52-4d8a-8b37-32a87b0b4fe0",
        "colab": {
          "base_uri": "https://localhost:8080/"
        }
      },
      "execution_count": 92,
      "outputs": [
        {
          "output_type": "execute_result",
          "data": {
            "text/plain": [
              "tensor([-0.9080, -1.4123,  1.4656, -0.2258,  0.0675, -1.4247, -0.5444,  0.1109,\n",
              "        -1.1510,  0.3757], dtype=torch.float64)"
            ]
          },
          "metadata": {},
          "execution_count": 92
        }
      ]
    },
    {
      "cell_type": "code",
      "source": [],
      "metadata": {
        "id": "6LORASm2sIzw"
      },
      "execution_count": null,
      "outputs": []
    },
    {
      "cell_type": "code",
      "source": [],
      "metadata": {
        "id": "awSkeTUZrxmP"
      },
      "execution_count": null,
      "outputs": []
    },
    {
      "cell_type": "code",
      "source": [],
      "metadata": {
        "id": "w3zC4Pomrc5u"
      },
      "execution_count": null,
      "outputs": []
    },
    {
      "cell_type": "code",
      "source": [],
      "metadata": {
        "id": "eBTt2UiWrc-5"
      },
      "execution_count": null,
      "outputs": []
    },
    {
      "cell_type": "code",
      "source": [],
      "metadata": {
        "id": "crzjaHLNrdEO"
      },
      "execution_count": null,
      "outputs": []
    },
    {
      "cell_type": "code",
      "source": [],
      "metadata": {
        "id": "Rmu32EuHrWgy"
      },
      "execution_count": null,
      "outputs": []
    },
    {
      "cell_type": "code",
      "source": [],
      "metadata": {
        "id": "rHwVldxIrWnP"
      },
      "execution_count": null,
      "outputs": []
    },
    {
      "cell_type": "code",
      "source": [],
      "metadata": {
        "id": "GNKGTE2urPAb"
      },
      "execution_count": null,
      "outputs": []
    },
    {
      "cell_type": "code",
      "source": [],
      "metadata": {
        "id": "rwpg3p0kp7b6"
      },
      "execution_count": null,
      "outputs": []
    },
    {
      "cell_type": "code",
      "source": [],
      "metadata": {
        "id": "ktTNHU5zpxA_"
      },
      "execution_count": null,
      "outputs": []
    },
    {
      "cell_type": "code",
      "source": [],
      "metadata": {
        "id": "DaT7S9_bpWme"
      },
      "execution_count": null,
      "outputs": []
    },
    {
      "cell_type": "code",
      "source": [],
      "metadata": {
        "id": "SpZG88FDpWrR"
      },
      "execution_count": null,
      "outputs": []
    },
    {
      "cell_type": "code",
      "source": [],
      "metadata": {
        "id": "cnGNXWyQl1kC"
      },
      "execution_count": null,
      "outputs": []
    },
    {
      "cell_type": "code",
      "source": [],
      "metadata": {
        "id": "AZ-FTsmll1pt"
      },
      "execution_count": null,
      "outputs": []
    }
  ]
}