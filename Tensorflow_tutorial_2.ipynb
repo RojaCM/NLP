{
  "cells": [
    {
      "cell_type": "markdown",
      "metadata": {
        "id": "view-in-github",
        "colab_type": "text"
      },
      "source": [
        "<a href=\"https://colab.research.google.com/github/RojaCM/NLP/blob/main/Tensorflow_tutorial_2.ipynb\" target=\"_parent\"><img src=\"https://colab.research.google.com/assets/colab-badge.svg\" alt=\"Open In Colab\"/></a>"
      ]
    },
    {
      "cell_type": "markdown",
      "id": "1ead922f-66f5-4478-864f-b9657fa81451",
      "metadata": {
        "id": "1ead922f-66f5-4478-864f-b9657fa81451"
      },
      "source": [
        "### Tensorflow Tutorial"
      ]
    },
    {
      "cell_type": "markdown",
      "id": "e1888875-bdd1-4961-8c86-faf7276990d0",
      "metadata": {
        "id": "e1888875-bdd1-4961-8c86-faf7276990d0"
      },
      "source": [
        "#### Indexing"
      ]
    },
    {
      "cell_type": "code",
      "execution_count": 1,
      "id": "af25fcb7-40b3-4598-a287-b2e4b5507c14",
      "metadata": {
        "id": "af25fcb7-40b3-4598-a287-b2e4b5507c14"
      },
      "outputs": [],
      "source": [
        "import tensorflow as tf\n",
        "import numpy as np"
      ]
    },
    {
      "cell_type": "code",
      "execution_count": 2,
      "id": "d1c22fc5-103d-423d-b40d-86c23519d781",
      "metadata": {
        "colab": {
          "base_uri": "https://localhost:8080/"
        },
        "id": "d1c22fc5-103d-423d-b40d-86c23519d781",
        "outputId": "613481cd-1f94-4abb-f9d1-e6963fb059d9"
      },
      "outputs": [
        {
          "output_type": "execute_result",
          "data": {
            "text/plain": [
              "<tf.Tensor: shape=(3, 3, 2), dtype=float32, numpy=\n",
              "array([[[ 0.5721696 , -0.28216806],\n",
              "        [ 0.9465919 ,  1.2956209 ],\n",
              "        [-0.5891881 , -0.46324497]],\n",
              "\n",
              "       [[ 0.0779639 , -1.3711436 ],\n",
              "        [-1.1159502 ,  0.8594059 ],\n",
              "        [ 0.28000295, -1.3839892 ]],\n",
              "\n",
              "       [[ 0.80899036,  0.7171591 ],\n",
              "        [ 0.9812676 , -0.40212122],\n",
              "        [-0.35395658,  0.23839499]]], dtype=float32)>"
            ]
          },
          "metadata": {},
          "execution_count": 2
        }
      ],
      "source": [
        "x = tf.random.normal([3, 3, 2])\n",
        "x"
      ]
    },
    {
      "cell_type": "code",
      "execution_count": 3,
      "id": "eb6bb22e-f909-4016-8a39-eb1209ac5c81",
      "metadata": {
        "colab": {
          "base_uri": "https://localhost:8080/"
        },
        "id": "eb6bb22e-f909-4016-8a39-eb1209ac5c81",
        "outputId": "a8269549-06e2-4956-ac55-cb38d63add9b"
      },
      "outputs": [
        {
          "output_type": "execute_result",
          "data": {
            "text/plain": [
              "<tf.Tensor: shape=(3, 2), dtype=float32, numpy=\n",
              "array([[ 0.5721696 , -0.28216806],\n",
              "       [ 0.9465919 ,  1.2956209 ],\n",
              "       [-0.5891881 , -0.46324497]], dtype=float32)>"
            ]
          },
          "metadata": {},
          "execution_count": 3
        }
      ],
      "source": [
        "#first matrix\n",
        "x[0]"
      ]
    },
    {
      "cell_type": "code",
      "execution_count": 4,
      "id": "53f50b0e-8676-4ed4-81fc-70004e9e2c07",
      "metadata": {
        "colab": {
          "base_uri": "https://localhost:8080/"
        },
        "id": "53f50b0e-8676-4ed4-81fc-70004e9e2c07",
        "outputId": "8c6f9684-9941-4fb0-d61e-31278c3e73ea"
      },
      "outputs": [
        {
          "output_type": "execute_result",
          "data": {
            "text/plain": [
              "<tf.Tensor: shape=(2,), dtype=float32, numpy=array([ 0.28000295, -1.3839892 ], dtype=float32)>"
            ]
          },
          "metadata": {},
          "execution_count": 4
        }
      ],
      "source": [
        "#second matrix, third row\n",
        "x[1][2]"
      ]
    },
    {
      "cell_type": "code",
      "execution_count": 5,
      "id": "7bc08b9c-4e8a-49c7-a4bc-122e3096d00f",
      "metadata": {
        "colab": {
          "base_uri": "https://localhost:8080/"
        },
        "id": "7bc08b9c-4e8a-49c7-a4bc-122e3096d00f",
        "outputId": "0cc8ab6e-1936-4526-ea98-cd23f9332228"
      },
      "outputs": [
        {
          "output_type": "execute_result",
          "data": {
            "text/plain": [
              "<tf.Tensor: shape=(), dtype=float32, numpy=0.7171591>"
            ]
          },
          "metadata": {},
          "execution_count": 5
        }
      ],
      "source": [
        "#third matrix, first row, last element\n",
        "x[2][0][1]"
      ]
    },
    {
      "cell_type": "markdown",
      "id": "de431f31-3fa0-49c7-8d4c-fb1322df06e8",
      "metadata": {
        "id": "de431f31-3fa0-49c7-8d4c-fb1322df06e8"
      },
      "source": [
        "#### Slicing"
      ]
    },
    {
      "cell_type": "code",
      "execution_count": 6,
      "id": "dac2a10a-26e2-4a8c-83b5-f9a46097810c",
      "metadata": {
        "colab": {
          "base_uri": "https://localhost:8080/"
        },
        "id": "dac2a10a-26e2-4a8c-83b5-f9a46097810c",
        "outputId": "bed39a57-98ea-482d-bd27-05e5b7800054"
      },
      "outputs": [
        {
          "output_type": "execute_result",
          "data": {
            "text/plain": [
              "<tf.Tensor: shape=(3, 3, 2), dtype=float32, numpy=\n",
              "array([[[ 0.5721696 , -0.28216806],\n",
              "        [ 0.9465919 ,  1.2956209 ],\n",
              "        [-0.5891881 , -0.46324497]],\n",
              "\n",
              "       [[ 0.0779639 , -1.3711436 ],\n",
              "        [-1.1159502 ,  0.8594059 ],\n",
              "        [ 0.28000295, -1.3839892 ]],\n",
              "\n",
              "       [[ 0.80899036,  0.7171591 ],\n",
              "        [ 0.9812676 , -0.40212122],\n",
              "        [-0.35395658,  0.23839499]]], dtype=float32)>"
            ]
          },
          "metadata": {},
          "execution_count": 6
        }
      ],
      "source": [
        "x"
      ]
    },
    {
      "cell_type": "code",
      "execution_count": 7,
      "id": "c1f8c06b-0a09-4f68-97c7-2cc386246831",
      "metadata": {
        "colab": {
          "base_uri": "https://localhost:8080/"
        },
        "id": "c1f8c06b-0a09-4f68-97c7-2cc386246831",
        "outputId": "8a52d4bc-451d-4f60-8930-be419262f297"
      },
      "outputs": [
        {
          "output_type": "execute_result",
          "data": {
            "text/plain": [
              "<tf.Tensor: shape=(2, 2), dtype=float32, numpy=\n",
              "array([[-1.1159502 ,  0.8594059 ],\n",
              "       [ 0.28000295, -1.3839892 ]], dtype=float32)>"
            ]
          },
          "metadata": {},
          "execution_count": 7
        }
      ],
      "source": [
        "#second matrix, second row onwards\n",
        "x[1][1:]"
      ]
    },
    {
      "cell_type": "code",
      "execution_count": 8,
      "id": "04bdab01-df6a-4a0c-a156-5247fd3cc401",
      "metadata": {
        "colab": {
          "base_uri": "https://localhost:8080/"
        },
        "id": "04bdab01-df6a-4a0c-a156-5247fd3cc401",
        "outputId": "bad8e031-c856-4f82-c551-c002a45081d9"
      },
      "outputs": [
        {
          "output_type": "execute_result",
          "data": {
            "text/plain": [
              "<tf.Tensor: shape=(2, 2), dtype=float32, numpy=\n",
              "array([[ 0.80899036,  0.7171591 ],\n",
              "       [ 0.9812676 , -0.40212122]], dtype=float32)>"
            ]
          },
          "metadata": {},
          "execution_count": 8
        }
      ],
      "source": [
        "##third matrix, first two rows\n",
        "x[2][:2]"
      ]
    },
    {
      "cell_type": "markdown",
      "id": "f9551a38-6847-46d4-89d8-55592f8cb570",
      "metadata": {
        "id": "f9551a38-6847-46d4-89d8-55592f8cb570"
      },
      "source": [
        "#### Reshaping"
      ]
    },
    {
      "cell_type": "code",
      "execution_count": 17,
      "id": "406ba1bb-ae79-4f3d-9a9b-634bea2221a8",
      "metadata": {
        "colab": {
          "base_uri": "https://localhost:8080/"
        },
        "id": "406ba1bb-ae79-4f3d-9a9b-634bea2221a8",
        "outputId": "4e7c5718-ffcf-4f28-d030-8598adc08e07"
      },
      "outputs": [
        {
          "output_type": "execute_result",
          "data": {
            "text/plain": [
              "<tf.Tensor: shape=(96,), dtype=int32, numpy=\n",
              "array([ 0,  1,  2,  3,  4,  5,  6,  7,  8,  9, 10, 11, 12, 13, 14, 15, 16,\n",
              "       17, 18, 19, 20, 21, 22, 23, 24, 25, 26, 27, 28, 29, 30, 31, 32, 33,\n",
              "       34, 35, 36, 37, 38, 39, 40, 41, 42, 43, 44, 45, 46, 47, 48, 49, 50,\n",
              "       51, 52, 53, 54, 55, 56, 57, 58, 59, 60, 61, 62, 63, 64, 65, 66, 67,\n",
              "       68, 69, 70, 71, 72, 73, 74, 75, 76, 77, 78, 79, 80, 81, 82, 83, 84,\n",
              "       85, 86, 87, 88, 89, 90, 91, 92, 93, 94, 95], dtype=int32)>"
            ]
          },
          "metadata": {},
          "execution_count": 17
        }
      ],
      "source": [
        "x = tf.range(96)\n",
        "x"
      ]
    },
    {
      "cell_type": "code",
      "execution_count": 18,
      "id": "9442f80f-9c2f-49c3-af3a-f232afd64691",
      "metadata": {
        "colab": {
          "base_uri": "https://localhost:8080/"
        },
        "id": "9442f80f-9c2f-49c3-af3a-f232afd64691",
        "outputId": "932a424c-e51b-4cf3-fb33-e1612f540265"
      },
      "outputs": [
        {
          "output_type": "execute_result",
          "data": {
            "text/plain": [
              "<tf.Tensor: shape=(2, 48), dtype=int32, numpy=\n",
              "array([[ 0,  1,  2,  3,  4,  5,  6,  7,  8,  9, 10, 11, 12, 13, 14, 15,\n",
              "        16, 17, 18, 19, 20, 21, 22, 23, 24, 25, 26, 27, 28, 29, 30, 31,\n",
              "        32, 33, 34, 35, 36, 37, 38, 39, 40, 41, 42, 43, 44, 45, 46, 47],\n",
              "       [48, 49, 50, 51, 52, 53, 54, 55, 56, 57, 58, 59, 60, 61, 62, 63,\n",
              "        64, 65, 66, 67, 68, 69, 70, 71, 72, 73, 74, 75, 76, 77, 78, 79,\n",
              "        80, 81, 82, 83, 84, 85, 86, 87, 88, 89, 90, 91, 92, 93, 94, 95]],\n",
              "      dtype=int32)>"
            ]
          },
          "metadata": {},
          "execution_count": 18
        }
      ],
      "source": [
        "x1 = tf.reshape(x, [2,48])\n",
        "x1"
      ]
    },
    {
      "cell_type": "code",
      "execution_count": 19,
      "id": "ae47ab7a-b4f6-4252-b3c5-9d9bdf413a03",
      "metadata": {
        "colab": {
          "base_uri": "https://localhost:8080/"
        },
        "id": "ae47ab7a-b4f6-4252-b3c5-9d9bdf413a03",
        "outputId": "c37a7ca0-ca37-4c0a-e9ea-080550900d7c"
      },
      "outputs": [
        {
          "output_type": "execute_result",
          "data": {
            "text/plain": [
              "<tf.Tensor: shape=(2, 4, 12), dtype=int32, numpy=\n",
              "array([[[ 0,  1,  2,  3,  4,  5,  6,  7,  8,  9, 10, 11],\n",
              "        [12, 13, 14, 15, 16, 17, 18, 19, 20, 21, 22, 23],\n",
              "        [24, 25, 26, 27, 28, 29, 30, 31, 32, 33, 34, 35],\n",
              "        [36, 37, 38, 39, 40, 41, 42, 43, 44, 45, 46, 47]],\n",
              "\n",
              "       [[48, 49, 50, 51, 52, 53, 54, 55, 56, 57, 58, 59],\n",
              "        [60, 61, 62, 63, 64, 65, 66, 67, 68, 69, 70, 71],\n",
              "        [72, 73, 74, 75, 76, 77, 78, 79, 80, 81, 82, 83],\n",
              "        [84, 85, 86, 87, 88, 89, 90, 91, 92, 93, 94, 95]]], dtype=int32)>"
            ]
          },
          "metadata": {},
          "execution_count": 19
        }
      ],
      "source": [
        "x2 = tf.reshape(x, [2, 4, 12])\n",
        "x2"
      ]
    },
    {
      "cell_type": "code",
      "execution_count": null,
      "id": "03974c45-082f-4cd2-8df3-c2a40387613d",
      "metadata": {
        "id": "03974c45-082f-4cd2-8df3-c2a40387613d",
        "outputId": "4afbe48e-180f-4f5f-f5a1-80e2107a1589"
      },
      "outputs": [
        {
          "data": {
            "text/plain": [
              "<tf.Tensor: shape=(2, 4, 4, 3), dtype=int32, numpy=\n",
              "array([[[[ 0,  1,  2],\n",
              "         [ 3,  4,  5],\n",
              "         [ 6,  7,  8],\n",
              "         [ 9, 10, 11]],\n",
              "\n",
              "        [[12, 13, 14],\n",
              "         [15, 16, 17],\n",
              "         [18, 19, 20],\n",
              "         [21, 22, 23]],\n",
              "\n",
              "        [[24, 25, 26],\n",
              "         [27, 28, 29],\n",
              "         [30, 31, 32],\n",
              "         [33, 34, 35]],\n",
              "\n",
              "        [[36, 37, 38],\n",
              "         [39, 40, 41],\n",
              "         [42, 43, 44],\n",
              "         [45, 46, 47]]],\n",
              "\n",
              "\n",
              "       [[[48, 49, 50],\n",
              "         [51, 52, 53],\n",
              "         [54, 55, 56],\n",
              "         [57, 58, 59]],\n",
              "\n",
              "        [[60, 61, 62],\n",
              "         [63, 64, 65],\n",
              "         [66, 67, 68],\n",
              "         [69, 70, 71]],\n",
              "\n",
              "        [[72, 73, 74],\n",
              "         [75, 76, 77],\n",
              "         [78, 79, 80],\n",
              "         [81, 82, 83]],\n",
              "\n",
              "        [[84, 85, 86],\n",
              "         [87, 88, 89],\n",
              "         [90, 91, 92],\n",
              "         [93, 94, 95]]]], dtype=int32)>"
            ]
          },
          "execution_count": 22,
          "metadata": {},
          "output_type": "execute_result"
        }
      ],
      "source": [
        "x3 = tf.reshape(x, [2, 4, 4, 3])\n",
        "x3"
      ]
    },
    {
      "cell_type": "code",
      "execution_count": 20,
      "id": "14716738-1c97-49bf-a665-eb2fba159dad",
      "metadata": {
        "colab": {
          "base_uri": "https://localhost:8080/"
        },
        "id": "14716738-1c97-49bf-a665-eb2fba159dad",
        "outputId": "2f428172-9ac7-4ada-9aa6-b80a307b8941"
      },
      "outputs": [
        {
          "output_type": "execute_result",
          "data": {
            "text/plain": [
              "<tf.Tensor: shape=(24,), dtype=int32, numpy=\n",
              "array([ 0,  1,  2,  3,  4,  5,  6,  7,  8,  9, 10, 11, 12, 13, 14, 15, 16,\n",
              "       17, 18, 19, 20, 21, 22, 23], dtype=int32)>"
            ]
          },
          "metadata": {},
          "execution_count": 20
        }
      ],
      "source": [
        "x = tf.range(24)\n",
        "x"
      ]
    },
    {
      "cell_type": "code",
      "execution_count": 21,
      "id": "14703a17-1e95-40a6-ad99-f123c86f01f5",
      "metadata": {
        "colab": {
          "base_uri": "https://localhost:8080/"
        },
        "id": "14703a17-1e95-40a6-ad99-f123c86f01f5",
        "outputId": "fd43cd84-546d-43e7-fea4-1f7a725c8a95"
      },
      "outputs": [
        {
          "output_type": "execute_result",
          "data": {
            "text/plain": [
              "<tf.Tensor: shape=(2, 12), dtype=int32, numpy=\n",
              "array([[ 0,  1,  2,  3,  4,  5,  6,  7,  8,  9, 10, 11],\n",
              "       [12, 13, 14, 15, 16, 17, 18, 19, 20, 21, 22, 23]], dtype=int32)>"
            ]
          },
          "metadata": {},
          "execution_count": 21
        }
      ],
      "source": [
        "x1 = tf.reshape(x, [2, -1])\n",
        "x1"
      ]
    },
    {
      "cell_type": "code",
      "execution_count": 22,
      "id": "4279eaf6-5fb9-466e-a000-10ad46633249",
      "metadata": {
        "colab": {
          "base_uri": "https://localhost:8080/"
        },
        "id": "4279eaf6-5fb9-466e-a000-10ad46633249",
        "outputId": "e85356f3-eab0-4865-e421-7b1bfc7814c4"
      },
      "outputs": [
        {
          "output_type": "execute_result",
          "data": {
            "text/plain": [
              "<tf.Tensor: shape=(2, 12), dtype=int32, numpy=\n",
              "array([[ 0,  1,  2,  3,  4,  5,  6,  7,  8,  9, 10, 11],\n",
              "       [12, 13, 14, 15, 16, 17, 18, 19, 20, 21, 22, 23]], dtype=int32)>"
            ]
          },
          "metadata": {},
          "execution_count": 22
        }
      ],
      "source": [
        "x2 = tf.reshape(x, [2, 12])\n",
        "x2"
      ]
    },
    {
      "cell_type": "code",
      "execution_count": 23,
      "id": "3cbb1043-26ef-4a4a-8885-138673a1de5a",
      "metadata": {
        "colab": {
          "base_uri": "https://localhost:8080/"
        },
        "id": "3cbb1043-26ef-4a4a-8885-138673a1de5a",
        "outputId": "b7e5c886-1791-4f93-862b-2aba7ef98c2b"
      },
      "outputs": [
        {
          "output_type": "execute_result",
          "data": {
            "text/plain": [
              "<tf.Tensor: shape=(2, 3, 4), dtype=int32, numpy=\n",
              "array([[[ 0,  1,  2,  3],\n",
              "        [ 4,  5,  6,  7],\n",
              "        [ 8,  9, 10, 11]],\n",
              "\n",
              "       [[12, 13, 14, 15],\n",
              "        [16, 17, 18, 19],\n",
              "        [20, 21, 22, 23]]], dtype=int32)>"
            ]
          },
          "metadata": {},
          "execution_count": 23
        }
      ],
      "source": [
        "x3 = tf.reshape(x1, [2, 3, -1])\n",
        "x3"
      ]
    },
    {
      "cell_type": "markdown",
      "id": "3d6f5515-6631-4efd-bcdb-cba3bcc5ad60",
      "metadata": {
        "id": "3d6f5515-6631-4efd-bcdb-cba3bcc5ad60"
      },
      "source": [
        "### Mathematical operations"
      ]
    },
    {
      "cell_type": "code",
      "execution_count": 24,
      "id": "b0ee3cc8-596a-4525-98c6-8a2d607fc2d1",
      "metadata": {
        "colab": {
          "base_uri": "https://localhost:8080/"
        },
        "id": "b0ee3cc8-596a-4525-98c6-8a2d607fc2d1",
        "outputId": "0dbb6f40-5b17-4304-b612-9be6afacfd7f"
      },
      "outputs": [
        {
          "output_type": "execute_result",
          "data": {
            "text/plain": [
              "<tf.Tensor: shape=(10,), dtype=int32, numpy=array([0, 1, 2, 3, 4, 5, 6, 7, 8, 9], dtype=int32)>"
            ]
          },
          "metadata": {},
          "execution_count": 24
        }
      ],
      "source": [
        "x = tf.range(10)\n",
        "x"
      ]
    },
    {
      "cell_type": "code",
      "execution_count": 25,
      "id": "be823230-5cec-43a1-be93-2f9cae67cac4",
      "metadata": {
        "colab": {
          "base_uri": "https://localhost:8080/"
        },
        "id": "be823230-5cec-43a1-be93-2f9cae67cac4",
        "outputId": "b6d0bbfc-6be5-4c33-8085-1490203095c6"
      },
      "outputs": [
        {
          "output_type": "execute_result",
          "data": {
            "text/plain": [
              "<tf.Tensor: shape=(), dtype=int32, numpy=4>"
            ]
          },
          "metadata": {},
          "execution_count": 25
        }
      ],
      "source": [
        "y = tf.constant(4)\n",
        "y"
      ]
    },
    {
      "cell_type": "code",
      "execution_count": 26,
      "id": "792c70bb-a7e0-4217-8b0d-72233c0d290a",
      "metadata": {
        "colab": {
          "base_uri": "https://localhost:8080/"
        },
        "id": "792c70bb-a7e0-4217-8b0d-72233c0d290a",
        "outputId": "cb6b5c70-506d-4f92-ed0e-b9ca257b45f6"
      },
      "outputs": [
        {
          "output_type": "execute_result",
          "data": {
            "text/plain": [
              "<tf.Tensor: shape=(10,), dtype=int32, numpy=array([ 4,  5,  6,  7,  8,  9, 10, 11, 12, 13], dtype=int32)>"
            ]
          },
          "metadata": {},
          "execution_count": 26
        }
      ],
      "source": [
        "x + y"
      ]
    },
    {
      "cell_type": "code",
      "execution_count": 27,
      "id": "55e0f41c-63f7-473d-ad4e-76b12fe4fdf3",
      "metadata": {
        "colab": {
          "base_uri": "https://localhost:8080/"
        },
        "id": "55e0f41c-63f7-473d-ad4e-76b12fe4fdf3",
        "outputId": "287f4190-70a4-45a1-8b52-6bc44ab50352"
      },
      "outputs": [
        {
          "output_type": "execute_result",
          "data": {
            "text/plain": [
              "<tf.Tensor: shape=(10,), dtype=int32, numpy=array([-4, -3, -2, -1,  0,  1,  2,  3,  4,  5], dtype=int32)>"
            ]
          },
          "metadata": {},
          "execution_count": 27
        }
      ],
      "source": [
        "x - y"
      ]
    },
    {
      "cell_type": "code",
      "execution_count": 28,
      "id": "73a42a26-ebc9-4b21-988b-138f902fb2dc",
      "metadata": {
        "colab": {
          "base_uri": "https://localhost:8080/"
        },
        "id": "73a42a26-ebc9-4b21-988b-138f902fb2dc",
        "outputId": "5478b4e9-eae9-4dc2-b6d3-40616d1c22bd"
      },
      "outputs": [
        {
          "output_type": "execute_result",
          "data": {
            "text/plain": [
              "<tf.Tensor: shape=(10,), dtype=float64, numpy=array([0.  , 0.25, 0.5 , 0.75, 1.  , 1.25, 1.5 , 1.75, 2.  , 2.25])>"
            ]
          },
          "metadata": {},
          "execution_count": 28
        }
      ],
      "source": [
        "x/y"
      ]
    },
    {
      "cell_type": "code",
      "execution_count": 29,
      "id": "6bc98afc-b196-4e39-b3f4-6eb92891b357",
      "metadata": {
        "colab": {
          "base_uri": "https://localhost:8080/"
        },
        "id": "6bc98afc-b196-4e39-b3f4-6eb92891b357",
        "outputId": "11715cfe-91de-4445-bf11-e9eda49b8c1e"
      },
      "outputs": [
        {
          "output_type": "execute_result",
          "data": {
            "text/plain": [
              "<tf.Tensor: shape=(10,), dtype=int32, numpy=array([ 0,  1,  4,  9, 16, 25, 36, 49, 64, 81], dtype=int32)>"
            ]
          },
          "metadata": {},
          "execution_count": 29
        }
      ],
      "source": [
        "tf.pow(x, 2)"
      ]
    },
    {
      "cell_type": "code",
      "execution_count": 30,
      "id": "7e86436d-cc60-4c49-9c78-1bc7a6efd6c1",
      "metadata": {
        "colab": {
          "base_uri": "https://localhost:8080/"
        },
        "id": "7e86436d-cc60-4c49-9c78-1bc7a6efd6c1",
        "outputId": "20dee908-69e4-4899-e140-a130bc5900eb"
      },
      "outputs": [
        {
          "output_type": "execute_result",
          "data": {
            "text/plain": [
              "<tf.Tensor: shape=(10,), dtype=float32, numpy=\n",
              "array([0.       , 1.       , 1.4142135, 1.7320508, 2.       , 2.236068 ,\n",
              "       2.4494898, 2.6457512, 2.828427 , 3.       ], dtype=float32)>"
            ]
          },
          "metadata": {},
          "execution_count": 30
        }
      ],
      "source": [
        "x = tf.cast(x, dtype = tf.float32)\n",
        "tf.pow(x, 0.5)"
      ]
    },
    {
      "cell_type": "code",
      "execution_count": 31,
      "id": "1c12143a-7f04-4185-879a-3e45bd2bdff9",
      "metadata": {
        "colab": {
          "base_uri": "https://localhost:8080/"
        },
        "id": "1c12143a-7f04-4185-879a-3e45bd2bdff9",
        "outputId": "3d85d63b-e195-4269-cbc1-c41ae1b0a6c7"
      },
      "outputs": [
        {
          "output_type": "execute_result",
          "data": {
            "text/plain": [
              "<tf.Tensor: shape=(), dtype=float32, numpy=54.59815>"
            ]
          },
          "metadata": {},
          "execution_count": 31
        }
      ],
      "source": [
        "#Exponential\n",
        "tf.exp(4.)"
      ]
    },
    {
      "cell_type": "code",
      "execution_count": 32,
      "id": "8f8ef9bc-d777-4d56-8723-b45b2ac57dc3",
      "metadata": {
        "colab": {
          "base_uri": "https://localhost:8080/"
        },
        "id": "8f8ef9bc-d777-4d56-8723-b45b2ac57dc3",
        "outputId": "6e5031e7-3375-442c-abc4-db98086d28ea"
      },
      "outputs": [
        {
          "output_type": "execute_result",
          "data": {
            "text/plain": [
              "<tf.Tensor: shape=(10,), dtype=float32, numpy=\n",
              "array([     -inf, 0.       , 0.6931472, 1.0986123, 1.3862944, 1.609438 ,\n",
              "       1.7917595, 1.9459102, 2.0794415, 2.1972246], dtype=float32)>"
            ]
          },
          "metadata": {},
          "execution_count": 32
        }
      ],
      "source": [
        "#Logarithmic\n",
        "tf.math.log(x)"
      ]
    },
    {
      "cell_type": "code",
      "execution_count": 33,
      "id": "e6dd0981-885a-4f7e-8a87-9bf6eeda09ff",
      "metadata": {
        "colab": {
          "base_uri": "https://localhost:8080/"
        },
        "id": "e6dd0981-885a-4f7e-8a87-9bf6eeda09ff",
        "outputId": "ca231287-cad5-48e1-e2b7-a38a03a66f49"
      },
      "outputs": [
        {
          "output_type": "execute_result",
          "data": {
            "text/plain": [
              "<tf.Tensor: shape=(3, 3), dtype=float32, numpy=\n",
              "array([[-0.9584667 , -2.16746   ,  3.0826669 ],\n",
              "       [ 1.0769083 ,  0.33174288, -2.7592187 ],\n",
              "       [-1.0596763 ,  2.9540093 ,  1.6165957 ]], dtype=float32)>"
            ]
          },
          "metadata": {},
          "execution_count": 33
        }
      ],
      "source": [
        "#matrix multiplication\n",
        "\n",
        "a = tf.random.normal([3,2])\n",
        "b = tf.random.normal([2,3])\n",
        "\n",
        "a@b"
      ]
    },
    {
      "cell_type": "code",
      "execution_count": 33,
      "id": "026c5087-5567-4eb3-8873-25f1ccb0324a",
      "metadata": {
        "id": "026c5087-5567-4eb3-8873-25f1ccb0324a"
      },
      "outputs": [],
      "source": []
    }
  ],
  "metadata": {
    "kernelspec": {
      "display_name": "Python 3 [3.10]",
      "language": "python",
      "name": "python3"
    },
    "language_info": {
      "codemirror_mode": {
        "name": "ipython",
        "version": 3
      },
      "file_extension": ".py",
      "mimetype": "text/x-python",
      "name": "python",
      "nbconvert_exporter": "python",
      "pygments_lexer": "ipython3",
      "version": "3.10.2"
    },
    "colab": {
      "provenance": [],
      "include_colab_link": true
    }
  },
  "nbformat": 4,
  "nbformat_minor": 5
}